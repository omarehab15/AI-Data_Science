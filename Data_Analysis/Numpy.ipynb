{
 "cells": [
  {
   "cell_type": "code",
   "execution_count": 74,
   "metadata": {},
   "outputs": [
    {
     "name": "stdout",
     "output_type": "stream",
     "text": [
      "[[1. 2. 3.]\n",
      " [4. 5. 6.]]\n",
      "(2, 3)\n",
      "2\n",
      "6\n"
     ]
    }
   ],
   "source": [
    "import numpy as np\n",
    "\n",
    "a = np.array([[1, 2, 3],[4,5,6]],dtype=np.float32)\n",
    "print(a)\n",
    "print(a.shape)\n",
    "print(a.ndim)\n",
    "print(a.size)"
   ]
  },
  {
   "cell_type": "code",
   "execution_count": 75,
   "metadata": {},
   "outputs": [
    {
     "name": "stdout",
     "output_type": "stream",
     "text": [
      "[[1. 1. 1.]\n",
      " [1. 1. 1.]\n",
      " [1. 1. 1.]]\n",
      "**************************************************\n",
      "[[0. 0. 0.]\n",
      " [0. 0. 0.]\n",
      " [0. 0. 0.]]\n",
      "**************************************************\n",
      "[[1. 0. 0.]\n",
      " [0. 1. 0.]\n",
      " [0. 0. 1.]]\n",
      "**************************************************\n",
      "[[1 0 0 0]\n",
      " [0 2 0 0]\n",
      " [0 0 3 0]\n",
      " [0 0 0 4]]\n",
      "**************************************************\n",
      "[[0.6217805  0.40609726 0.11752134 0.43407846]\n",
      " [0.68664659 0.67976903 0.0903893  0.64191519]\n",
      " [0.47781045 0.11271124 0.52812462 0.26234944]\n",
      " [0.90329808 0.50392779 0.57704351 0.26131168]]\n",
      "**************************************************\n",
      "[[-0.58507287  0.1260805  -1.03856707  0.46164199]\n",
      " [-0.7473739   1.03935235  0.59323789 -1.10112992]\n",
      " [-0.21602722  0.34543936 -0.14633966 -1.9552391 ]\n",
      " [ 1.6203091  -0.59346845  0.17233831 -0.01091928]]\n",
      "**************************************************\n",
      "[0 2 4 6 8]\n",
      "**************************************************\n",
      "[ 0.   2.5  5.   7.5 10. ]\n",
      "**************************************************\n",
      "[ 0.          0.41666667  0.83333333  1.25        1.66666667  2.08333333\n",
      "  2.5         2.91666667  3.33333333  3.75        4.16666667  4.58333333\n",
      "  5.          5.41666667  5.83333333  6.25        6.66666667  7.08333333\n",
      "  7.5         7.91666667  8.33333333  8.75        9.16666667  9.58333333\n",
      " 10.        ]\n"
     ]
    }
   ],
   "source": [
    "a = np.ones((3,3))\n",
    "print(a)\n",
    "print(\"*\"*50)\n",
    "b = np.zeros((3,3))\n",
    "print(b)\n",
    "print(\"*\"*50)\n",
    "c = np.eye(3)\n",
    "print(c)\n",
    "print(\"*\"*50)\n",
    "d = np.diag(np.array([1,2,3,4]))\n",
    "print(d)\n",
    "print(\"*\"*50)\n",
    "g = np.random.rand(4,4)\n",
    "print(g)\n",
    "print(\"*\"*50)\n",
    "h = np.random.randn(4,4)\n",
    "print(h)\n",
    "print(\"*\"*50)\n",
    "z = np.arange(0,10,2)\n",
    "print(z)\n",
    "print(\"*\"*50)\n",
    "r = np.linspace(0,10,5)\n",
    "print(r)\n",
    "print(\"*\"*50)\n",
    "\n",
    "#create lin space matrix\n",
    "x = np.linspace(0,10,25)\n",
    "print(x)\n"
   ]
  },
  {
   "cell_type": "code",
   "execution_count": 76,
   "metadata": {},
   "outputs": [
    {
     "data": {
      "text/plain": [
       "array([[ 0.        ,  0.41666667,  0.83333333,  1.25      ,  1.66666667],\n",
       "       [ 2.08333333,  2.5       ,  2.91666667,  3.33333333,  3.75      ],\n",
       "       [ 4.16666667,  4.58333333,  5.        ,  5.41666667,  5.83333333],\n",
       "       [ 6.25      ,  6.66666667,  7.08333333,  7.5       ,  7.91666667],\n",
       "       [ 8.33333333,  8.75      ,  9.16666667,  9.58333333, 10.        ]])"
      ]
     },
     "execution_count": 76,
     "metadata": {},
     "output_type": "execute_result"
    }
   ],
   "source": [
    "x.reshape(5,5)"
   ]
  },
  {
   "cell_type": "code",
   "execution_count": 77,
   "metadata": {},
   "outputs": [
    {
     "name": "stdout",
     "output_type": "stream",
     "text": [
      "[[1 2 3]\n",
      " [4 5 6]]\n",
      "[[1 2 3]\n",
      " [4 5 6]]\n",
      "[[1 2 3 1 2 3]\n",
      " [4 5 6 4 5 6]]\n"
     ]
    }
   ],
   "source": [
    "a = np.array([[1,2,3],[4,5,6]])\n",
    "print(a)\n",
    "b = np.array([[1,2,3],[4,5,6]])\n",
    "print(b)\n",
    "print(np.concatenate((a,b),axis=1))"
   ]
  },
  {
   "cell_type": "code",
   "execution_count": 78,
   "metadata": {},
   "outputs": [
    {
     "name": "stdout",
     "output_type": "stream",
     "text": [
      "int64\n",
      "[[1. 2. 3.]\n",
      " [4. 5. 6.]]\n"
     ]
    }
   ],
   "source": [
    "print(a.dtype)\n",
    "print(a.astype(np.float16))"
   ]
  },
  {
   "cell_type": "code",
   "execution_count": 79,
   "metadata": {},
   "outputs": [
    {
     "data": {
      "text/plain": [
       "array([[0, 0, 0],\n",
       "       [0, 0, 0]])"
      ]
     },
     "execution_count": 79,
     "metadata": {},
     "output_type": "execute_result"
    }
   ],
   "source": [
    "np.zeros_like(a)"
   ]
  },
  {
   "cell_type": "code",
   "execution_count": 80,
   "metadata": {},
   "outputs": [
    {
     "name": "stdout",
     "output_type": "stream",
     "text": [
      "[[1 2]\n",
      " [3 4]]\n",
      "[[1 2 3 4]]\n",
      "[[1]\n",
      " [2]\n",
      " [3]\n",
      " [4]]\n",
      "[[1]\n",
      " [2]\n",
      " [3]\n",
      " [4]]\n"
     ]
    }
   ],
   "source": [
    "A = np.array([[1,2],[3,4]])\n",
    "print(A)\n",
    "print(A.reshape(1,4))\n",
    "print(A.reshape(4,1))\n",
    "print(A.reshape(4,-1))\n",
    "# print(A.reshape(3,-1))  #error"
   ]
  },
  {
   "cell_type": "code",
   "execution_count": 81,
   "metadata": {},
   "outputs": [
    {
     "name": "stdout",
     "output_type": "stream",
     "text": [
      "[[ 5  6  7]\n",
      " [ 8  9 10]]\n",
      "[[ 5  6  7  8  9 10]]\n",
      "[[ 5  6]\n",
      " [ 7  8]\n",
      " [ 9 10]]\n"
     ]
    }
   ],
   "source": [
    "B = np.array([[5,6],[7,8],[9,10]])\n",
    "print(B.reshape(2,-1))\n",
    "print(B.reshape(1,-1))\n",
    "print(B.reshape(-1,2))"
   ]
  },
  {
   "cell_type": "code",
   "execution_count": 82,
   "metadata": {},
   "outputs": [
    {
     "name": "stdout",
     "output_type": "stream",
     "text": [
      "[[[ 5  6  7]\n",
      "  [ 8  9 10]]]\n",
      "[[[ 5  6  7]]\n",
      "\n",
      " [[ 8  9 10]]]\n",
      "(2, 1, 3)\n"
     ]
    }
   ],
   "source": [
    "print(B.reshape(1,2,3))\n",
    "print(B.reshape(2,1,3))\n",
    "print(B.reshape(2,1,3).shape)"
   ]
  },
  {
   "cell_type": "code",
   "execution_count": 83,
   "metadata": {},
   "outputs": [
    {
     "name": "stdout",
     "output_type": "stream",
     "text": [
      "[[1 2]\n",
      " [3 4]]\n",
      "[[1 3]\n",
      " [2 4]]\n"
     ]
    }
   ],
   "source": [
    "A = np.array([[1,2],[3,4]])\n",
    "print(A)\n",
    "print(A.T)"
   ]
  },
  {
   "cell_type": "code",
   "execution_count": 84,
   "metadata": {},
   "outputs": [
    {
     "name": "stdout",
     "output_type": "stream",
     "text": [
      "[[ 1  2  3  4  5]\n",
      " [ 6  7  8  9 10]\n",
      " [11 12 13 14 15]\n",
      " [16 17 18 19 20]\n",
      " [21 22 23 24 25]]\n"
     ]
    }
   ],
   "source": [
    "mat = np.arange(1,26).reshape(5,5)\n",
    "print(mat)"
   ]
  },
  {
   "cell_type": "code",
   "execution_count": 85,
   "metadata": {},
   "outputs": [
    {
     "name": "stdout",
     "output_type": "stream",
     "text": [
      "[[ 2  4  6  8 10]\n",
      " [12 14 16 18 20]\n",
      " [22 24 26 28 30]\n",
      " [32 34 36 38 40]\n",
      " [42 44 46 48 50]]\n",
      "**************************************************\n",
      "[[0 0 0 0 0]\n",
      " [0 0 0 0 0]\n",
      " [0 0 0 0 0]\n",
      " [0 0 0 0 0]\n",
      " [0 0 0 0 0]]\n",
      "**************************************************\n",
      "[[  1   4   9  16  25]\n",
      " [ 36  49  64  81 100]\n",
      " [121 144 169 196 225]\n",
      " [256 289 324 361 400]\n",
      " [441 484 529 576 625]]\n"
     ]
    }
   ],
   "source": [
    "# Arithmetic operations\n",
    "print(mat + mat)\n",
    "print(\"*\"*50)\n",
    "print(mat - mat)\n",
    "print(\"*\"*50)\n",
    "print(mat * mat)"
   ]
  },
  {
   "cell_type": "code",
   "execution_count": 86,
   "metadata": {},
   "outputs": [
    {
     "name": "stdout",
     "output_type": "stream",
     "text": [
      "[[101 102 103 104 105]\n",
      " [106 107 108 109 110]\n",
      " [111 112 113 114 115]\n",
      " [116 117 118 119 120]\n",
      " [121 122 123 124 125]]\n",
      "**************************************************\n",
      "[[-99 -98 -97 -96 -95]\n",
      " [-94 -93 -92 -91 -90]\n",
      " [-89 -88 -87 -86 -85]\n",
      " [-84 -83 -82 -81 -80]\n",
      " [-79 -78 -77 -76 -75]]\n",
      "**************************************************\n",
      "[[ 100  200  300  400  500]\n",
      " [ 600  700  800  900 1000]\n",
      " [1100 1200 1300 1400 1500]\n",
      " [1600 1700 1800 1900 2000]\n",
      " [2100 2200 2300 2400 2500]]\n"
     ]
    }
   ],
   "source": [
    "# Scaler operations\n",
    "print(mat + 100)\n",
    "print(\"*\"*50)\n",
    "print(mat - 100)\n",
    "print(\"*\"*50)\n",
    "print(mat * 100)"
   ]
  },
  {
   "cell_type": "code",
   "execution_count": 87,
   "metadata": {},
   "outputs": [
    {
     "name": "stdout",
     "output_type": "stream",
     "text": [
      "[[38]\n",
      " [ 5]\n",
      " [97]\n",
      " [55]\n",
      " [48]]\n",
      "[[ 799]\n",
      " [2014]\n",
      " [3229]\n",
      " [4444]\n",
      " [5659]]\n"
     ]
    }
   ],
   "source": [
    "# Matrix multiplication\n",
    "ran_mat = np.random.randint(1,100,5).reshape(5,1)\n",
    "print(ran_mat)\n",
    "print(mat.dot(ran_mat))"
   ]
  },
  {
   "cell_type": "code",
   "execution_count": 88,
   "metadata": {},
   "outputs": [
    {
     "name": "stdout",
     "output_type": "stream",
     "text": [
      "[[False False False False False]\n",
      " [False False False False False]\n",
      " [ True  True  True  True  True]\n",
      " [ True  True  True  True  True]\n",
      " [ True  True  True  True  True]]\n"
     ]
    }
   ],
   "source": [
    "# logical operations\n",
    "print(mat > 10)"
   ]
  },
  {
   "cell_type": "code",
   "execution_count": 89,
   "metadata": {},
   "outputs": [
    {
     "data": {
      "text/plain": [
       "array([11, 12, 13, 14, 15, 16, 17, 18, 19, 20, 21, 22, 23, 24, 25])"
      ]
     },
     "execution_count": 89,
     "metadata": {},
     "output_type": "execute_result"
    }
   ],
   "source": [
    "mat[mat > 10]"
   ]
  },
  {
   "cell_type": "code",
   "execution_count": 90,
   "metadata": {},
   "outputs": [
    {
     "name": "stdout",
     "output_type": "stream",
     "text": [
      "[[26 27 28 29 30]\n",
      " [31 32 33 34 35]\n",
      " [36 37 38 39 40]\n",
      " [41 42 43 44 45]\n",
      " [46 47 48 49 50]]\n",
      "**************************************************\n",
      "[[0.03846154 0.07407407 0.10714286 0.13793103 0.16666667]\n",
      " [0.19354838 0.21875    0.24242425 0.2647059  0.2857143 ]\n",
      " [0.30555555 0.3243243  0.34210527 0.35897437 0.375     ]\n",
      " [0.3902439  0.4047619  0.41860464 0.4318182  0.44444445]\n",
      " [0.45652175 0.4680851  0.47916666 0.48979592 0.5       ]]\n"
     ]
    }
   ],
   "source": [
    "tmp = np.arange(26,51).reshape(5,5)\n",
    "mat = mat.astype(np.float32)\n",
    "print(tmp)\n",
    "print(\"*\"*50)\n",
    "# mat += tmp\n",
    "# print(mat)\n",
    "# print(\"*\"*50)\n",
    "mat /= tmp\n",
    "print(mat)"
   ]
  },
  {
   "cell_type": "code",
   "execution_count": 93,
   "metadata": {},
   "outputs": [
    {
     "name": "stdout",
     "output_type": "stream",
     "text": [
      "[[0.19611613 0.27216554 0.32732683 0.37139067 0.4082483 ]\n",
      " [0.43994135 0.4677072  0.492366   0.5144958  0.5345225 ]\n",
      " [0.5527708  0.5694948  0.58489764 0.5991447  0.61237246]\n",
      " [0.62469506 0.636209   0.6469966  0.65712875 0.6666667 ]\n",
      " [0.67566395 0.68416744 0.69221866 0.6998542  0.70710677]]\n",
      "**************************************************\n",
      "[[1.0392108 1.0768865 1.1130934 1.1478964 1.1813605]\n",
      " [1.2135481 1.2445202 1.2743347 1.3030477 1.3307122]\n",
      " [1.357379  1.3830957 1.4079086 1.4318601 1.4549913]\n",
      " [1.4773409 1.4989455 1.5198393 1.5400549 1.5596235]\n",
      " [1.5785738 1.5969334 1.6147282 1.631983  1.6487212]]\n",
      "**************************************************\n",
      "[[0.03845206 0.07400636 0.10693798 0.13749409 0.16589613]\n",
      " [0.19234222 0.21700957 0.2400567  0.2616254  0.28184286]\n",
      " [0.30082303 0.3186684  0.3354711  0.35131416 0.36627254]\n",
      " [0.38041398 0.39379993 0.40648597 0.41852278 0.42995638]\n",
      " [0.44082874 0.4511782  0.46103984 0.4704458  0.47942555]]\n"
     ]
    }
   ],
   "source": [
    "print(np.sqrt(mat))\n",
    "print(\"*\"*50)\n",
    "print(np.exp(mat))\n",
    "print(\"*\"*50)\n",
    "print(np.sin(mat))\n"
   ]
  },
  {
   "cell_type": "code",
   "execution_count": null,
   "metadata": {},
   "outputs": [],
   "source": [
    " # Indexing and slicing"
   ]
  }
 ],
 "metadata": {
  "kernelspec": {
   "display_name": "base",
   "language": "python",
   "name": "python3"
  },
  "language_info": {
   "codemirror_mode": {
    "name": "ipython",
    "version": 3
   },
   "file_extension": ".py",
   "mimetype": "text/x-python",
   "name": "python",
   "nbconvert_exporter": "python",
   "pygments_lexer": "ipython3",
   "version": "3.12.3"
  }
 },
 "nbformat": 4,
 "nbformat_minor": 2
}
