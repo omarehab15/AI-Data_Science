{
 "cells": [
  {
   "cell_type": "code",
   "execution_count": 1,
   "metadata": {},
   "outputs": [],
   "source": [
    "from mysql import connector"
   ]
  },
  {
   "cell_type": "code",
   "execution_count": 2,
   "metadata": {},
   "outputs": [
    {
     "name": "stdout",
     "output_type": "stream",
     "text": [
      "<mysql.connector.connection_cext.CMySQLConnection object at 0x00000198DFA4E7E0>\n"
     ]
    }
   ],
   "source": [
    "mydb = connector.connect(\n",
    "    host=\"localhost\",\n",
    "    user=\"root\",\n",
    "    password=\"root\",\n",
    "    port = \"3306\"\n",
    ")\n",
    "\n",
    "print(mydb)\n",
    "cursor = mydb.cursor()"
   ]
  },
  {
   "cell_type": "code",
   "execution_count": 3,
   "metadata": {},
   "outputs": [
    {
     "data": {
      "text/plain": [
       "[('debi',),\n",
       " ('information_schema',),\n",
       " ('mysql',),\n",
       " ('omar',),\n",
       " ('performance_schema',),\n",
       " ('sakila',),\n",
       " ('sys',),\n",
       " ('world',)]"
      ]
     },
     "execution_count": 3,
     "metadata": {},
     "output_type": "execute_result"
    }
   ],
   "source": [
    "cursor.execute(\"SHOW DATABASES\")\n",
    "cursor.fetchall()"
   ]
  },
  {
   "cell_type": "markdown",
   "metadata": {},
   "source": [
    "# Create Database"
   ]
  },
  {
   "cell_type": "code",
   "execution_count": 4,
   "metadata": {},
   "outputs": [
    {
     "data": {
      "text/plain": [
       "[('information_schema',),\n",
       " ('mysql',),\n",
       " ('omar',),\n",
       " ('performance_schema',),\n",
       " ('sakila',),\n",
       " ('sys',),\n",
       " ('world',)]"
      ]
     },
     "execution_count": 4,
     "metadata": {},
     "output_type": "execute_result"
    }
   ],
   "source": [
    "cursor.execute(\"DROP DATABASE debi\")\n",
    "cursor.execute(\"SHOW DATABASES\")\n",
    "cursor.fetchall()"
   ]
  },
  {
   "cell_type": "code",
   "execution_count": 5,
   "metadata": {},
   "outputs": [
    {
     "data": {
      "text/plain": [
       "[('debi',),\n",
       " ('information_schema',),\n",
       " ('mysql',),\n",
       " ('omar',),\n",
       " ('performance_schema',),\n",
       " ('sakila',),\n",
       " ('sys',),\n",
       " ('world',)]"
      ]
     },
     "execution_count": 5,
     "metadata": {},
     "output_type": "execute_result"
    }
   ],
   "source": [
    "cursor.execute(\"CREATE DATABASE debi\")\n",
    "cursor.execute(\"SHOW DATABASES\")\n",
    "cursor.fetchall()"
   ]
  },
  {
   "cell_type": "markdown",
   "metadata": {},
   "source": [
    "cursor.execute(\"SHOW DATABASES\")\n",
    "cursor.fetchall()"
   ]
  },
  {
   "cell_type": "code",
   "execution_count": 6,
   "metadata": {},
   "outputs": [],
   "source": [
    "cursor.execute(\"USE debi\")"
   ]
  },
  {
   "cell_type": "code",
   "execution_count": 7,
   "metadata": {},
   "outputs": [
    {
     "data": {
      "text/plain": [
       "[]"
      ]
     },
     "execution_count": 7,
     "metadata": {},
     "output_type": "execute_result"
    }
   ],
   "source": [
    "cursor.execute(\"SHOW TABLES\")\n",
    "cursor.fetchall()"
   ]
  },
  {
   "cell_type": "code",
   "execution_count": 8,
   "metadata": {},
   "outputs": [],
   "source": [
    "mydb.close()"
   ]
  },
  {
   "cell_type": "code",
   "execution_count": 9,
   "metadata": {},
   "outputs": [
    {
     "name": "stdout",
     "output_type": "stream",
     "text": [
      "<mysql.connector.connection_cext.CMySQLConnection object at 0x00000198DFBC2EA0>\n"
     ]
    },
    {
     "data": {
      "text/plain": [
       "[('debi',),\n",
       " ('information_schema',),\n",
       " ('mysql',),\n",
       " ('omar',),\n",
       " ('performance_schema',),\n",
       " ('sakila',),\n",
       " ('sys',),\n",
       " ('world',)]"
      ]
     },
     "execution_count": 9,
     "metadata": {},
     "output_type": "execute_result"
    }
   ],
   "source": [
    "debi_db = connector.connect(\n",
    "    host=\"localhost\",\n",
    "    username=\"root\",\n",
    "    password=\"root\",\n",
    "    database=\"debi\",\n",
    ")\n",
    "print(debi_db)\n",
    "\n",
    "cursor = debi_db.cursor()\n",
    "cursor.execute(\"SHOW DATABASES\")\n",
    "cursor.fetchall()"
   ]
  },
  {
   "cell_type": "markdown",
   "metadata": {},
   "source": [
    "# Create table "
   ]
  },
  {
   "cell_type": "code",
   "execution_count": 10,
   "metadata": {},
   "outputs": [],
   "source": [
    "cursor.execute(\"CREATE TABLE employee (name VARCHAR(20), ID VARCHAR(20), DOB DATE);\")"
   ]
  },
  {
   "cell_type": "code",
   "execution_count": 11,
   "metadata": {},
   "outputs": [
    {
     "data": {
      "text/plain": [
       "[('employee',)]"
      ]
     },
     "execution_count": 11,
     "metadata": {},
     "output_type": "execute_result"
    }
   ],
   "source": [
    "# list all tables\n",
    "cursor.execute(\"SHOW TABLES\")\n",
    "cursor.fetchall()"
   ]
  },
  {
   "cell_type": "code",
   "execution_count": 12,
   "metadata": {},
   "outputs": [
    {
     "data": {
      "text/plain": [
       "[('name',), ('ID',), ('DOB',), ('name',), ('ID',), ('DOB',), ('Address',)]"
      ]
     },
     "execution_count": 12,
     "metadata": {},
     "output_type": "execute_result"
    }
   ],
   "source": [
    "# lis all columns in a table\n",
    "cursor.reset()\n",
    "cursor.execute(\"SELECT COLUMN_NAME FROM INFORMATION_SCHEMA.COLUMNS WHERE TABLE_NAME = 'employee';\")\n",
    "cursor.fetchall()"
   ]
  },
  {
   "cell_type": "code",
   "execution_count": 13,
   "metadata": {},
   "outputs": [
    {
     "data": {
      "text/plain": [
       "[]"
      ]
     },
     "execution_count": 13,
     "metadata": {},
     "output_type": "execute_result"
    }
   ],
   "source": [
    "# Drop a table\n",
    "cursor.execute(\"DROP TABLE employee\")\n",
    "cursor.execute(\"SHOW TABLES\")\n",
    "cursor.fetchall()"
   ]
  },
  {
   "cell_type": "markdown",
   "metadata": {},
   "source": [
    "ALtering columns configs"
   ]
  },
  {
   "cell_type": "code",
   "execution_count": 14,
   "metadata": {},
   "outputs": [],
   "source": [
    "cursor = debi_db.cursor()\n",
    "cursor.execute(\"CREATE TABLE employee (name VARCHAR(20), ID VARCHAR(20), DOB DATE);\")"
   ]
  },
  {
   "cell_type": "code",
   "execution_count": 15,
   "metadata": {},
   "outputs": [],
   "source": [
    "cursor.execute(\"ALTER TABLE employee ADD COLUMN Address VARCHAR(50);\")"
   ]
  },
  {
   "cell_type": "code",
   "execution_count": 16,
   "metadata": {},
   "outputs": [],
   "source": [
    "# lis all columns in a table\n",
    "cursor.reset()\n",
    "cursor.execute(\"SELECT COLUMN_NAME FROM INFORMATION_SCHEMA.COLUMNS WHERE TABLE_NAME = 'employee';\")"
   ]
  },
  {
   "cell_type": "code",
   "execution_count": 17,
   "metadata": {},
   "outputs": [
    {
     "data": {
      "text/plain": [
       "[('name',),\n",
       " ('ID',),\n",
       " ('DOB',),\n",
       " ('Address',),\n",
       " ('name',),\n",
       " ('ID',),\n",
       " ('DOB',),\n",
       " ('Address',)]"
      ]
     },
     "execution_count": 17,
     "metadata": {},
     "output_type": "execute_result"
    }
   ],
   "source": [
    "cursor.fetchall()"
   ]
  },
  {
   "cell_type": "markdown",
   "metadata": {},
   "source": [
    "Insert "
   ]
  },
  {
   "cell_type": "code",
   "execution_count": 18,
   "metadata": {},
   "outputs": [],
   "source": [
    "cursor.execute(\"INSERT INTO employee (name, ID, DOB, Address) VALUES ('Omar', '123', '2001-10-01', '6 October');\")"
   ]
  },
  {
   "cell_type": "code",
   "execution_count": 19,
   "metadata": {},
   "outputs": [],
   "source": [
    "cursor.execute(\"INSERT INTO employee (Name,ID,DOB) VALUES ('Islam','123','1993-03-25')\")"
   ]
  },
  {
   "cell_type": "code",
   "execution_count": 20,
   "metadata": {},
   "outputs": [
    {
     "name": "stdout",
     "output_type": "stream",
     "text": [
      "('Omar', '123', datetime.date(2001, 10, 1), '6 October')\n",
      "('Islam', '123', datetime.date(1993, 3, 25), None)\n"
     ]
    }
   ],
   "source": [
    "cursor.execute(\"SELECT * FROM employee\")\n",
    "for x in cursor:\n",
    "    print(x)"
   ]
  },
  {
   "cell_type": "markdown",
   "metadata": {},
   "source": [
    "Insert Many rows"
   ]
  },
  {
   "cell_type": "code",
   "execution_count": 21,
   "metadata": {},
   "outputs": [],
   "source": [
    "query = \"INSERT INTO employee (name, ID, DOB, Address) VALUES (%s, %s, %s, %s)\"\n",
    "\n",
    "values = [\n",
    "    ('Ahmed', '123', '1993-03-25', 'zayed'),\n",
    "    ('Ali', '123', '1993-03-25', 'Giza'),\n",
    "    ('Mohamed', '123', '1993-03-25', 'Maadi'),\n",
    "    ('Hassan', '123', '1993-03-25', 'Nasr City'),\n",
    "    ('Khaled', '123', '1993-03-25', '6 October'),\n",
    "]\n",
    "\n",
    "cursor.executemany(query, values)"
   ]
  },
  {
   "cell_type": "code",
   "execution_count": 22,
   "metadata": {},
   "outputs": [
    {
     "data": {
      "text/plain": [
       "[('Omar', '123', datetime.date(2001, 10, 1), '6 October'),\n",
       " ('Islam', '123', datetime.date(1993, 3, 25), None),\n",
       " ('Ahmed', '123', datetime.date(1993, 3, 25), 'zayed'),\n",
       " ('Ali', '123', datetime.date(1993, 3, 25), 'Giza'),\n",
       " ('Mohamed', '123', datetime.date(1993, 3, 25), 'Maadi'),\n",
       " ('Hassan', '123', datetime.date(1993, 3, 25), 'Nasr City'),\n",
       " ('Khaled', '123', datetime.date(1993, 3, 25), '6 October')]"
      ]
     },
     "execution_count": 22,
     "metadata": {},
     "output_type": "execute_result"
    }
   ],
   "source": [
    "cursor.execute(\"SELECT * FROM employee\")\n",
    "cursor.fetchall()"
   ]
  },
  {
   "cell_type": "code",
   "execution_count": null,
   "metadata": {},
   "outputs": [],
   "source": []
  }
 ],
 "metadata": {
  "kernelspec": {
   "display_name": "base",
   "language": "python",
   "name": "python3"
  },
  "language_info": {
   "codemirror_mode": {
    "name": "ipython",
    "version": 3
   },
   "file_extension": ".py",
   "mimetype": "text/x-python",
   "name": "python",
   "nbconvert_exporter": "python",
   "pygments_lexer": "ipython3",
   "version": "3.12.3"
  }
 },
 "nbformat": 4,
 "nbformat_minor": 2
}
