{
 "cells": [
  {
   "cell_type": "markdown",
   "metadata": {},
   "source": [
    "# Python Modules "
   ]
  },
  {
   "cell_type": "code",
   "execution_count": 1,
   "metadata": {},
   "outputs": [
    {
     "name": "stdout",
     "output_type": "stream",
     "text": [
      "9\n",
      "Ahmed\n"
     ]
    }
   ],
   "source": [
    "def add(x,y):\n",
    "  return x+y\n",
    "\n",
    "class entity():\n",
    "  def __init__(self,name,health,mana):\n",
    "    self.name=name\n",
    "    self.health=health\n",
    "    self.mana=mana\n",
    "    self.hamada  = 7080\n",
    "\n",
    "print(add(4,5))\n",
    "\n",
    "c = entity(\"Ahmed\",50,100)\n",
    "print(c.name)"
   ]
  },
  {
   "cell_type": "code",
   "execution_count": 2,
   "metadata": {},
   "outputs": [
    {
     "ename": "ModuleNotFoundError",
     "evalue": "No module named 'utils'",
     "output_type": "error",
     "traceback": [
      "\u001b[1;31m---------------------------------------------------------------------------\u001b[0m",
      "\u001b[1;31mModuleNotFoundError\u001b[0m                       Traceback (most recent call last)",
      "Cell \u001b[1;32mIn[2], line 1\u001b[0m\n\u001b[1;32m----> 1\u001b[0m \u001b[38;5;28;01mimport\u001b[39;00m \u001b[38;5;21;01mutils\u001b[39;00m\n\u001b[0;32m      3\u001b[0m \u001b[38;5;28mprint\u001b[39m(utils\u001b[38;5;241m.\u001b[39madd(\u001b[38;5;241m4\u001b[39m,\u001b[38;5;241m5\u001b[39m))\n\u001b[0;32m      5\u001b[0m c \u001b[38;5;241m=\u001b[39m utils\u001b[38;5;241m.\u001b[39mentity(\u001b[38;5;124m\"\u001b[39m\u001b[38;5;124mAhmed\u001b[39m\u001b[38;5;124m\"\u001b[39m,\u001b[38;5;241m50\u001b[39m,\u001b[38;5;241m100\u001b[39m)\n",
      "\u001b[1;31mModuleNotFoundError\u001b[0m: No module named 'utils'"
     ]
    }
   ],
   "source": [
    "import utils\n",
    "\n",
    "print(utils.add(4,5))\n",
    "\n",
    "c = utils.entity(\"Ahmed\",50,100)\n",
    "print(c.name)"
   ]
  },
  {
   "cell_type": "code",
   "execution_count": null,
   "metadata": {},
   "outputs": [
    {
     "name": "stdout",
     "output_type": "stream",
     "text": [
      "Ahmed\n"
     ]
    }
   ],
   "source": [
    "from utils import entity\n",
    "\n",
    "c = entity(\"Ahmed\",50,100)\n",
    "print(c.name)"
   ]
  },
  {
   "cell_type": "code",
   "execution_count": null,
   "metadata": {},
   "outputs": [
    {
     "name": "stdout",
     "output_type": "stream",
     "text": [
      "Ahmed\n"
     ]
    }
   ],
   "source": [
    "from src.utils import entity\n",
    "\n",
    "c = entity(\"Ahmed\",50,100)\n",
    "print(c.name)"
   ]
  },
  {
   "cell_type": "code",
   "execution_count": null,
   "metadata": {},
   "outputs": [
    {
     "name": "stdout",
     "output_type": "stream",
     "text": [
      "9\n"
     ]
    }
   ],
   "source": [
    "import src.utils as ut\n",
    "\n",
    "print(ut.add(3,6))"
   ]
  },
  {
   "cell_type": "code",
   "execution_count": null,
   "metadata": {},
   "outputs": [
    {
     "data": {
      "text/plain": [
       "['c:\\\\Users\\\\omar\\\\miniconda3\\\\python312.zip',\n",
       " 'c:\\\\Users\\\\omar\\\\miniconda3\\\\DLLs',\n",
       " 'c:\\\\Users\\\\omar\\\\miniconda3\\\\Lib',\n",
       " 'c:\\\\Users\\\\omar\\\\miniconda3',\n",
       " '',\n",
       " 'c:\\\\Users\\\\omar\\\\miniconda3\\\\Lib\\\\site-packages',\n",
       " 'c:\\\\Users\\\\omar\\\\miniconda3\\\\Lib\\\\site-packages\\\\win32',\n",
       " 'c:\\\\Users\\\\omar\\\\miniconda3\\\\Lib\\\\site-packages\\\\win32\\\\lib',\n",
       " 'c:\\\\Users\\\\omar\\\\miniconda3\\\\Lib\\\\site-packages\\\\Pythonwin']"
      ]
     },
     "execution_count": 7,
     "metadata": {},
     "output_type": "execute_result"
    }
   ],
   "source": [
    "# Check all pathes that python can access\n",
    "import sys\n",
    "sys.path"
   ]
  },
  {
   "cell_type": "code",
   "execution_count": null,
   "metadata": {},
   "outputs": [
    {
     "name": "stdout",
     "output_type": "stream",
     "text": [
      "Requirement already satisfied: pandas in c:\\users\\omar\\miniconda3\\lib\\site-packages (2.2.3)\n",
      "Requirement already satisfied: numpy>=1.26.0 in c:\\users\\omar\\miniconda3\\lib\\site-packages (from pandas) (2.1.3)\n",
      "Requirement already satisfied: python-dateutil>=2.8.2 in c:\\users\\omar\\miniconda3\\lib\\site-packages (from pandas) (2.9.0)\n",
      "Requirement already satisfied: pytz>=2020.1 in c:\\users\\omar\\miniconda3\\lib\\site-packages (from pandas) (2024.2)\n",
      "Requirement already satisfied: tzdata>=2022.7 in c:\\users\\omar\\miniconda3\\lib\\site-packages (from pandas) (2024.2)\n",
      "Requirement already satisfied: six>=1.5 in c:\\users\\omar\\miniconda3\\lib\\site-packages (from python-dateutil>=2.8.2->pandas) (1.16.0)\n"
     ]
    }
   ],
   "source": [
    "!pip install pandas"
   ]
  },
  {
   "cell_type": "code",
   "execution_count": null,
   "metadata": {},
   "outputs": [
    {
     "name": "stdout",
     "output_type": "stream",
     "text": [
      "   sepal.length  sepal.width  petal.length  petal.width variety\n",
      "0           5.1          3.5           1.4          0.2  Setosa\n",
      "1           4.9          3.0           1.4          0.2  Setosa\n",
      "2           4.7          3.2           1.3          0.2  Setosa\n",
      "3           4.6          3.1           1.5          0.2  Setosa\n",
      "4           5.0          3.6           1.4          0.2  Setosa\n",
      "       sepal.length  sepal.width  petal.length  petal.width\n",
      "count    150.000000   150.000000    150.000000   150.000000\n",
      "mean       5.843333     3.057333      3.758000     1.199333\n",
      "std        0.828066     0.435866      1.765298     0.762238\n",
      "min        4.300000     2.000000      1.000000     0.100000\n",
      "25%        5.100000     2.800000      1.600000     0.300000\n",
      "50%        5.800000     3.000000      4.350000     1.300000\n",
      "75%        6.400000     3.300000      5.100000     1.800000\n",
      "max        7.900000     4.400000      6.900000     2.500000\n"
     ]
    }
   ],
   "source": [
    "import pandas as pd\n",
    "data = pd.read_csv(\"iris.csv\")\n",
    "print(data.head())\n",
    "print(data.describe())"
   ]
  },
  {
   "cell_type": "code",
   "execution_count": null,
   "metadata": {},
   "outputs": [
    {
     "name": "stdout",
     "output_type": "stream",
     "text": [
      "Collecting opencv-python\n",
      "  Downloading opencv_python-4.11.0.86-cp37-abi3-win_amd64.whl.metadata (20 kB)\n",
      "Requirement already satisfied: numpy>=1.21.2 in c:\\users\\omar\\miniconda3\\lib\\site-packages (from opencv-python) (2.1.3)\n",
      "Downloading opencv_python-4.11.0.86-cp37-abi3-win_amd64.whl (39.5 MB)\n",
      "   ---------------------------------------- 0.0/39.5 MB ? eta -:--:--\n",
      "   ---------------------------------------- 0.3/39.5 MB ? eta -:--:--\n",
      "    --------------------------------------- 0.8/39.5 MB 2.1 MB/s eta 0:00:19\n",
      "   - -------------------------------------- 1.3/39.5 MB 2.2 MB/s eta 0:00:18\n",
      "   - -------------------------------------- 1.6/39.5 MB 2.1 MB/s eta 0:00:19\n",
      "   - -------------------------------------- 1.8/39.5 MB 2.1 MB/s eta 0:00:18\n",
      "   -- ------------------------------------- 2.1/39.5 MB 1.7 MB/s eta 0:00:23\n",
      "   -- ------------------------------------- 2.6/39.5 MB 1.9 MB/s eta 0:00:20\n",
      "   --- ------------------------------------ 3.1/39.5 MB 1.9 MB/s eta 0:00:19\n",
      "   --- ------------------------------------ 3.1/39.5 MB 1.9 MB/s eta 0:00:19\n",
      "   --- ------------------------------------ 3.4/39.5 MB 1.7 MB/s eta 0:00:22\n",
      "   ---- ----------------------------------- 4.2/39.5 MB 1.8 MB/s eta 0:00:20\n",
      "   ---- ----------------------------------- 4.2/39.5 MB 1.8 MB/s eta 0:00:20\n",
      "   ---- ----------------------------------- 4.7/39.5 MB 1.8 MB/s eta 0:00:20\n",
      "   ----- ---------------------------------- 5.2/39.5 MB 1.8 MB/s eta 0:00:19\n",
      "   ----- ---------------------------------- 5.8/39.5 MB 1.8 MB/s eta 0:00:19\n",
      "   ------ --------------------------------- 6.0/39.5 MB 1.8 MB/s eta 0:00:19\n",
      "   ------ --------------------------------- 6.3/39.5 MB 1.8 MB/s eta 0:00:18\n",
      "   ------ --------------------------------- 6.8/39.5 MB 1.8 MB/s eta 0:00:19\n",
      "   ------- -------------------------------- 7.1/39.5 MB 1.8 MB/s eta 0:00:19\n",
      "   ------- -------------------------------- 7.3/39.5 MB 1.8 MB/s eta 0:00:19\n",
      "   ------- -------------------------------- 7.9/39.5 MB 1.8 MB/s eta 0:00:18\n",
      "   -------- ------------------------------- 8.4/39.5 MB 1.8 MB/s eta 0:00:18\n",
      "   --------- ------------------------------ 8.9/39.5 MB 1.8 MB/s eta 0:00:17\n",
      "   --------- ------------------------------ 9.2/39.5 MB 1.8 MB/s eta 0:00:17\n",
      "   --------- ------------------------------ 9.7/39.5 MB 1.8 MB/s eta 0:00:17\n",
      "   ---------- ----------------------------- 10.0/39.5 MB 1.8 MB/s eta 0:00:17\n",
      "   ---------- ----------------------------- 10.2/39.5 MB 1.8 MB/s eta 0:00:16\n",
      "   ---------- ----------------------------- 10.7/39.5 MB 1.8 MB/s eta 0:00:16\n",
      "   ----------- ---------------------------- 11.3/39.5 MB 1.9 MB/s eta 0:00:16\n",
      "   ----------- ---------------------------- 11.8/39.5 MB 1.9 MB/s eta 0:00:15\n",
      "   ------------ --------------------------- 12.3/39.5 MB 1.9 MB/s eta 0:00:15\n",
      "   ------------ --------------------------- 12.6/39.5 MB 1.9 MB/s eta 0:00:15\n",
      "   ------------- -------------------------- 13.1/39.5 MB 1.9 MB/s eta 0:00:14\n",
      "   ------------- -------------------------- 13.6/39.5 MB 1.9 MB/s eta 0:00:14\n",
      "   -------------- ------------------------- 13.9/39.5 MB 1.9 MB/s eta 0:00:14\n",
      "   -------------- ------------------------- 14.4/39.5 MB 1.9 MB/s eta 0:00:14\n",
      "   --------------- ------------------------ 14.9/39.5 MB 1.9 MB/s eta 0:00:13\n",
      "   --------------- ------------------------ 15.2/39.5 MB 1.9 MB/s eta 0:00:13\n",
      "   --------------- ------------------------ 15.5/39.5 MB 1.9 MB/s eta 0:00:13\n",
      "   ---------------- ----------------------- 16.0/39.5 MB 1.9 MB/s eta 0:00:13\n",
      "   ---------------- ----------------------- 16.3/39.5 MB 1.9 MB/s eta 0:00:13\n",
      "   ---------------- ----------------------- 16.5/39.5 MB 1.9 MB/s eta 0:00:13\n",
      "   ----------------- ---------------------- 17.0/39.5 MB 1.9 MB/s eta 0:00:13\n",
      "   ----------------- ---------------------- 17.3/39.5 MB 1.9 MB/s eta 0:00:12\n",
      "   ------------------ --------------------- 17.8/39.5 MB 1.9 MB/s eta 0:00:12\n",
      "   ------------------ --------------------- 18.1/39.5 MB 1.9 MB/s eta 0:00:12\n",
      "   ------------------ --------------------- 18.6/39.5 MB 1.9 MB/s eta 0:00:12\n",
      "   ------------------- -------------------- 19.1/39.5 MB 1.9 MB/s eta 0:00:11\n",
      "   ------------------- -------------------- 19.4/39.5 MB 1.9 MB/s eta 0:00:11\n",
      "   ------------------- -------------------- 19.7/39.5 MB 1.9 MB/s eta 0:00:11\n",
      "   -------------------- ------------------- 19.9/39.5 MB 1.9 MB/s eta 0:00:11\n",
      "   -------------------- ------------------- 20.4/39.5 MB 1.9 MB/s eta 0:00:11\n",
      "   --------------------- ------------------ 21.0/39.5 MB 1.9 MB/s eta 0:00:10\n",
      "   --------------------- ------------------ 21.2/39.5 MB 1.9 MB/s eta 0:00:10\n",
      "   ---------------------- ----------------- 21.8/39.5 MB 1.9 MB/s eta 0:00:10\n",
      "   ---------------------- ----------------- 22.3/39.5 MB 1.9 MB/s eta 0:00:10\n",
      "   ----------------------- ---------------- 22.8/39.5 MB 1.9 MB/s eta 0:00:09\n",
      "   ----------------------- ---------------- 23.3/39.5 MB 1.9 MB/s eta 0:00:09\n",
      "   ----------------------- ---------------- 23.6/39.5 MB 1.9 MB/s eta 0:00:09\n",
      "   ------------------------ --------------- 23.9/39.5 MB 1.9 MB/s eta 0:00:09\n",
      "   ------------------------ --------------- 24.4/39.5 MB 1.9 MB/s eta 0:00:09\n",
      "   ------------------------- -------------- 24.9/39.5 MB 1.9 MB/s eta 0:00:08\n",
      "   ------------------------- -------------- 25.4/39.5 MB 1.9 MB/s eta 0:00:08\n",
      "   -------------------------- ------------- 25.7/39.5 MB 1.9 MB/s eta 0:00:08\n",
      "   -------------------------- ------------- 26.0/39.5 MB 1.9 MB/s eta 0:00:08\n",
      "   -------------------------- ------------- 26.2/39.5 MB 1.9 MB/s eta 0:00:08\n",
      "   -------------------------- ------------- 26.5/39.5 MB 1.9 MB/s eta 0:00:07\n",
      "   --------------------------- ------------ 27.0/39.5 MB 1.9 MB/s eta 0:00:07\n",
      "   --------------------------- ------------ 27.5/39.5 MB 1.9 MB/s eta 0:00:07\n",
      "   ---------------------------- ----------- 28.0/39.5 MB 1.9 MB/s eta 0:00:07\n",
      "   ---------------------------- ----------- 28.6/39.5 MB 1.9 MB/s eta 0:00:06\n",
      "   ----------------------------- ---------- 28.8/39.5 MB 1.9 MB/s eta 0:00:06\n",
      "   ----------------------------- ---------- 29.4/39.5 MB 1.9 MB/s eta 0:00:06\n",
      "   ------------------------------ --------- 29.9/39.5 MB 1.9 MB/s eta 0:00:06\n",
      "   ------------------------------ --------- 30.4/39.5 MB 1.9 MB/s eta 0:00:05\n",
      "   ------------------------------- -------- 30.7/39.5 MB 1.9 MB/s eta 0:00:05\n",
      "   ------------------------------- -------- 31.2/39.5 MB 1.9 MB/s eta 0:00:05\n",
      "   -------------------------------- ------- 31.7/39.5 MB 1.9 MB/s eta 0:00:05\n",
      "   -------------------------------- ------- 32.2/39.5 MB 1.9 MB/s eta 0:00:04\n",
      "   -------------------------------- ------- 32.5/39.5 MB 1.9 MB/s eta 0:00:04\n",
      "   --------------------------------- ------ 33.0/39.5 MB 1.9 MB/s eta 0:00:04\n",
      "   --------------------------------- ------ 33.6/39.5 MB 1.9 MB/s eta 0:00:04\n",
      "   ---------------------------------- ----- 34.1/39.5 MB 1.9 MB/s eta 0:00:03\n",
      "   ---------------------------------- ----- 34.3/39.5 MB 1.9 MB/s eta 0:00:03\n",
      "   ----------------------------------- ---- 34.9/39.5 MB 1.9 MB/s eta 0:00:03\n",
      "   ----------------------------------- ---- 35.4/39.5 MB 1.9 MB/s eta 0:00:03\n",
      "   ------------------------------------ --- 35.9/39.5 MB 1.9 MB/s eta 0:00:02\n",
      "   ------------------------------------ --- 36.2/39.5 MB 1.9 MB/s eta 0:00:02\n",
      "   ------------------------------------ --- 36.2/39.5 MB 1.9 MB/s eta 0:00:02\n",
      "   ------------------------------------- -- 37.0/39.5 MB 1.9 MB/s eta 0:00:02\n",
      "   ------------------------------------- -- 37.5/39.5 MB 1.9 MB/s eta 0:00:02\n",
      "   -------------------------------------- - 37.7/39.5 MB 1.9 MB/s eta 0:00:01\n",
      "   -------------------------------------- - 38.3/39.5 MB 1.9 MB/s eta 0:00:01\n",
      "   ---------------------------------------  38.5/39.5 MB 1.9 MB/s eta 0:00:01\n",
      "   ---------------------------------------  39.1/39.5 MB 1.9 MB/s eta 0:00:01\n",
      "   ---------------------------------------  39.3/39.5 MB 1.9 MB/s eta 0:00:01\n",
      "   ---------------------------------------- 39.5/39.5 MB 1.9 MB/s eta 0:00:00\n",
      "Installing collected packages: opencv-python\n",
      "Successfully installed opencv-python-4.11.0.86\n"
     ]
    }
   ],
   "source": [
    "!pip install opencv-python"
   ]
  },
  {
   "cell_type": "code",
   "execution_count": 7,
   "metadata": {},
   "outputs": [
    {
     "data": {
      "text/plain": [
       "False"
      ]
     },
     "execution_count": 7,
     "metadata": {},
     "output_type": "execute_result"
    }
   ],
   "source": [
    "# %pip install opencv-python\n",
    "\n",
    "import cv2\n",
    "\n",
    "#read an image and rotate 180\n",
    "img = cv2.imread(\"chest.jpeg\")\n",
    "img = cv2.rotate(img, cv2.ROTATE_180)\n",
    "\n",
    "#save\n",
    "cv2.imwrite(\"rotated.jpg\", img)"
   ]
  },
  {
   "cell_type": "code",
   "execution_count": 9,
   "metadata": {},
   "outputs": [
    {
     "name": "stdout",
     "output_type": "stream",
     "text": [
      "Requirement already satisfied: opencv-python in c:\\users\\omar\\miniconda3\\lib\\site-packages (4.11.0.86)\n",
      "Requirement already satisfied: numpy>=1.21.2 in c:\\users\\omar\\miniconda3\\lib\\site-packages (from opencv-python) (2.1.3)\n"
     ]
    }
   ],
   "source": [
    "!pip install --upgrade opencv-python"
   ]
  },
  {
   "cell_type": "code",
   "execution_count": 10,
   "metadata": {},
   "outputs": [
    {
     "name": "stdout",
     "output_type": "stream",
     "text": [
      "Failed to save image.\n"
     ]
    }
   ],
   "source": [
    "import cv2\n",
    "import os\n",
    "\n",
    "# Read an image and rotate 180\n",
    "img = cv2.imread(\"chest.jpeg\")\n",
    "\n",
    "# Check if the image was loaded correctly\n",
    "if img is None:\n",
    "    print(\"Failed to load image.\")\n",
    "else:\n",
    "    img = cv2.rotate(img, cv2.ROTATE_180)\n",
    "\n",
    "    # Save the rotated image to a different location (e.g., Desktop)\n",
    "    desktop_path = os.path.join(os.path.expanduser(\"~\"), \"Desktop\", \"rotated.jpg\")\n",
    "    success = cv2.imwrite(desktop_path, img)\n",
    "    if not success:\n",
    "        print(\"Failed to save image.\")\n",
    "    else:\n",
    "        print(f\"Image saved successfully at {desktop_path}.\")"
   ]
  },
  {
   "cell_type": "markdown",
   "metadata": {},
   "source": [
    "# Lambda"
   ]
  },
  {
   "cell_type": "code",
   "execution_count": null,
   "metadata": {},
   "outputs": [
    {
     "name": "stdout",
     "output_type": "stream",
     "text": [
      "9\n"
     ]
    }
   ],
   "source": [
    "def add(x,y):\n",
    "  return x+y\n",
    "\n",
    "print(add(4,5))"
   ]
  },
  {
   "cell_type": "code",
   "execution_count": null,
   "metadata": {},
   "outputs": [
    {
     "name": "stdout",
     "output_type": "stream",
     "text": [
      "9\n"
     ]
    }
   ],
   "source": [
    "add = lambda x,y: x+y\n",
    "\n",
    "print(add(4,5))"
   ]
  },
  {
   "cell_type": "code",
   "execution_count": null,
   "metadata": {},
   "outputs": [
    {
     "name": "stdout",
     "output_type": "stream",
     "text": [
      "Hello  Ahmed\n"
     ]
    }
   ],
   "source": [
    "say_hello = lambda name: print(\"Hello \",name)\n",
    "\n",
    "say_hello(\"Ahmed\")"
   ]
  },
  {
   "cell_type": "code",
   "execution_count": null,
   "metadata": {},
   "outputs": [
    {
     "name": "stdout",
     "output_type": "stream",
     "text": [
      "False\n"
     ]
    }
   ],
   "source": [
    "def is_even(x):\n",
    "  if x%2==0:\n",
    "    return True\n",
    "  else:\n",
    "    return False\n",
    "\n",
    "print(is_even(5))"
   ]
  },
  {
   "cell_type": "code",
   "execution_count": null,
   "metadata": {},
   "outputs": [
    {
     "name": "stdout",
     "output_type": "stream",
     "text": [
      "False\n"
     ]
    }
   ],
   "source": [
    "# If else statement in the lambda\n",
    "is_even  = lambda x: True if x%2==0 else False\n",
    "\n",
    "print(is_even(5))"
   ]
  },
  {
   "cell_type": "code",
   "execution_count": null,
   "metadata": {},
   "outputs": [
    {
     "name": "stdout",
     "output_type": "stream",
     "text": [
      "Zero\n"
     ]
    }
   ],
   "source": [
    "# if , elif , else in lambda\n",
    "eval = lambda x : \"Positive\" if x > 0 else \"Negative\" if x < 0 else \"Zero\"\n",
    "\n",
    "print(eval(0))"
   ]
  },
  {
   "cell_type": "markdown",
   "metadata": {},
   "source": [
    "# List statement"
   ]
  },
  {
   "cell_type": "code",
   "execution_count": null,
   "metadata": {},
   "outputs": [
    {
     "name": "stdout",
     "output_type": "stream",
     "text": [
      "[0, 1, 2, 3, 4]\n"
     ]
    }
   ],
   "source": [
    "nums = []\n",
    "for i in range(5):\n",
    "    nums.append(i)\n",
    "print(nums)"
   ]
  },
  {
   "cell_type": "code",
   "execution_count": null,
   "metadata": {},
   "outputs": [
    {
     "name": "stdout",
     "output_type": "stream",
     "text": [
      "[0, 1, 2, 3, 4]\n"
     ]
    }
   ],
   "source": [
    "nums = [i for i in range(5)]\n",
    "print(nums)\n"
   ]
  },
  {
   "cell_type": "code",
   "execution_count": null,
   "metadata": {},
   "outputs": [
    {
     "name": "stdout",
     "output_type": "stream",
     "text": [
      "Hello\n",
      "Hello\n",
      "Hello\n",
      "[None, None, None]\n"
     ]
    }
   ],
   "source": [
    "tmp = [print(\"Hello\") for i in range(3)]\n",
    "print(tmp)"
   ]
  },
  {
   "cell_type": "code",
   "execution_count": null,
   "metadata": {},
   "outputs": [
    {
     "name": "stdout",
     "output_type": "stream",
     "text": [
      "[1, 4, 9, 16, 25]\n"
     ]
    }
   ],
   "source": [
    "# map\n",
    "\n",
    "nums = [1,2,3,4,5]\n",
    "\n",
    "squares = []\n",
    "\n",
    "for num in nums:\n",
    "  squares.append(num**2)\n",
    "\n",
    "print(squares)"
   ]
  },
  {
   "cell_type": "code",
   "execution_count": null,
   "metadata": {},
   "outputs": [
    {
     "name": "stdout",
     "output_type": "stream",
     "text": [
      "<map object at 0x0000016F3F1F1AE0>\n",
      "<map object at 0x0000016F3F1F1AE0>\n",
      "<map object at 0x0000016F3F1F1AE0>\n",
      "<map object at 0x0000016F3F1F1AE0>\n",
      "<map object at 0x0000016F3F1F1AE0>\n"
     ]
    }
   ],
   "source": [
    "nums = [1,2,3,4,5]\n",
    "\n",
    "def square(x):\n",
    "    return x**2\n",
    "\n",
    "z = map(square, nums)\n",
    "\n",
    "for i in z :\n",
    "    print(z)"
   ]
  },
  {
   "cell_type": "code",
   "execution_count": null,
   "metadata": {},
   "outputs": [
    {
     "name": "stdout",
     "output_type": "stream",
     "text": [
      "[1, 4, 9, 16, 25]\n",
      "[1, 4, 9, 16, 25]\n"
     ]
    }
   ],
   "source": [
    "nums = [1,2,3,4,5]\n",
    "\n",
    "def square(x):\n",
    "    return x**2\n",
    "squares = list(map(square, nums))\n",
    "print(squares)\n",
    " \n",
    "\n",
    "squares = list(map(lambda x: x**2, nums))\n",
    "\n",
    "print(squares)"
   ]
  },
  {
   "cell_type": "code",
   "execution_count": null,
   "metadata": {},
   "outputs": [
    {
     "name": "stdout",
     "output_type": "stream",
     "text": [
      "[2, 4, 6, 8, 10]\n"
     ]
    }
   ],
   "source": [
    "def get_evens(nums):\n",
    "  evens = []\n",
    "  for num in nums:\n",
    "    if num%2==0:\n",
    "      evens.append(num)\n",
    "  return evens\n",
    "\n",
    "nums = [1,2,3,4,5,6,7,8,9,10]\n",
    "\n",
    "print(get_evens(nums))"
   ]
  },
  {
   "cell_type": "code",
   "execution_count": null,
   "metadata": {},
   "outputs": [
    {
     "name": "stdout",
     "output_type": "stream",
     "text": [
      "[2, 4, 6, 8, 10]\n"
     ]
    }
   ],
   "source": [
    "# filter\n",
    "nums = [1,2,3,4,5,6,7,8,9,10]\n",
    "\n",
    "evens = list(filter(lambda x: x%2==0, nums))\n",
    "\n",
    "print(evens)"
   ]
  },
  {
   "cell_type": "code",
   "execution_count": null,
   "metadata": {},
   "outputs": [
    {
     "name": "stdout",
     "output_type": "stream",
     "text": [
      "[70, 80, 56]\n"
     ]
    }
   ],
   "source": [
    "grades = [12,45,70,80,30,56]\n",
    "\n",
    "passed = list(filter(lambda x: x>=50, grades))\n",
    "\n",
    "print(passed)\n"
   ]
  },
  {
   "cell_type": "code",
   "execution_count": null,
   "metadata": {},
   "outputs": [
    {
     "name": "stdout",
     "output_type": "stream",
     "text": [
      "[(10, 'Ahmed'), (20, 'Omar'), (30, 'Khaled')]\n",
      "10 Ahmed\n",
      "20 Omar\n",
      "30 Khaled\n",
      "{10: 'Ahmed', 20: 'Omar', 30: 'Khaled'}\n"
     ]
    }
   ],
   "source": [
    "# zip\n",
    "nums = [10,20,30]\n",
    "names = [\"Ahmed\",\"Omar\",\"Khaled\"]\n",
    "\n",
    "print(list(zip(nums,names)))\n",
    "\n",
    "for item in zip(nums,names):\n",
    "    print(item[0],item[1])\n",
    "\n",
    "data= {}\n",
    "for item in zip(nums,names):\n",
    "    data[item[0]] = item[1]\n",
    "\n",
    "print(data)"
   ]
  },
  {
   "cell_type": "code",
   "execution_count": null,
   "metadata": {},
   "outputs": [
    {
     "data": {
      "text/plain": [
       "<zip at 0x16f3f7613c0>"
      ]
     },
     "execution_count": 29,
     "metadata": {},
     "output_type": "execute_result"
    }
   ],
   "source": [
    "tmp = zip(nums,names)\n",
    "tmp"
   ]
  },
  {
   "cell_type": "code",
   "execution_count": null,
   "metadata": {},
   "outputs": [
    {
     "data": {
      "text/plain": [
       "(10, 'Ahmed')"
      ]
     },
     "execution_count": 30,
     "metadata": {},
     "output_type": "execute_result"
    }
   ],
   "source": [
    "next(tmp)"
   ]
  },
  {
   "cell_type": "code",
   "execution_count": null,
   "metadata": {},
   "outputs": [
    {
     "data": {
      "text/plain": [
       "(20, 'Omar')"
      ]
     },
     "execution_count": 31,
     "metadata": {},
     "output_type": "execute_result"
    }
   ],
   "source": [
    "next(tmp)"
   ]
  },
  {
   "cell_type": "code",
   "execution_count": null,
   "metadata": {},
   "outputs": [
    {
     "name": "stdout",
     "output_type": "stream",
     "text": [
      "8\n",
      "10\n"
     ]
    }
   ],
   "source": [
    "vowels = {\n",
    "    \"a\": 4,\n",
    "    \"e\": 3,\n",
    "    \"i\": 1\n",
    "}\n",
    "\n",
    "\n",
    "def sum_of_vowels(s):\n",
    "    sum = 0\n",
    "    for c in s:\n",
    "        if c.lower() in vowels.keys():\n",
    "            sum += vowels[c.lower()]\n",
    "    \n",
    "    return sum\n",
    "    \n",
    "print(sum_of_vowels(\"lets test this function\"))\n",
    "print(sum_of_vowels(\"Do I get the correct output?\"))"
   ]
  },
  {
   "cell_type": "code",
   "execution_count": null,
   "metadata": {},
   "outputs": [],
   "source": []
  }
 ],
 "metadata": {
  "kernelspec": {
   "display_name": "base",
   "language": "python",
   "name": "python3"
  },
  "language_info": {
   "codemirror_mode": {
    "name": "ipython",
    "version": 3
   },
   "file_extension": ".py",
   "mimetype": "text/x-python",
   "name": "python",
   "nbconvert_exporter": "python",
   "pygments_lexer": "ipython3",
   "version": "3.12.3"
  }
 },
 "nbformat": 4,
 "nbformat_minor": 2
}
