{
 "cells": [
  {
   "cell_type": "markdown",
   "metadata": {},
   "source": [
    "# Recap"
   ]
  },
  {
   "cell_type": "code",
   "execution_count": 1,
   "metadata": {},
   "outputs": [
    {
     "name": "stdout",
     "output_type": "stream",
     "text": [
      "furry\n",
      "Roar....Roar\n",
      "It's Running\n",
      "soft\n",
      "Woof....Woof\n",
      "It's Running\n"
     ]
    }
   ],
   "source": [
    "class animal():\n",
    "    def __init__(self, hapitant , skin , age):\n",
    "        self.hapitant = hapitant\n",
    "        self.skin = skin\n",
    "        self.age = age\n",
    "\n",
    "    def running(self):\n",
    "        print(\"It's Running\")\n",
    "\n",
    "class Tiger(animal) : #sub class\n",
    "    def __init__(self, hapitant, skin, age):\n",
    "        super().__init__(hapitant, skin, age)\n",
    "\n",
    "    def speak(self):\n",
    "        print(\"Roar....Roar\")\n",
    "\n",
    "class Dog(animal) : #sub class\n",
    "    def __init__(self, hapitant, skin, age):\n",
    "        super().__init__(hapitant, skin, age)\n",
    "\n",
    "    def speak(self):\n",
    "        print(\"Woof....Woof\")\n",
    "\n",
    "tiger = Tiger(\"Jungle\" , \"furry\" , 10) #object / instance\n",
    "print(tiger.skin)\n",
    "tiger.speak()\n",
    "tiger.running()\n",
    "\n",
    "luffy = Dog(\"zoo\", \"soft\" , 10) # object / instance\n",
    "print(luffy.skin)\n",
    "luffy.speak()\n",
    "luffy.running()"
   ]
  },
  {
   "cell_type": "markdown",
   "metadata": {},
   "source": [
    "Basic Arithmetic operation on a string number "
   ]
  },
  {
   "cell_type": "code",
   "execution_count": 3,
   "metadata": {},
   "outputs": [
    {
     "data": {
      "text/plain": [
       "0.9230769230769231"
      ]
     },
     "execution_count": 3,
     "metadata": {},
     "output_type": "execute_result"
    }
   ],
   "source": [
    "def arithmetic_operation(statement):\n",
    "    numbers = \"0123456789\"\n",
    "    operations = \"+-/*\"\n",
    "    num1 = \"\"\n",
    "    num2 = \"\"\n",
    "    operation = \"\"\n",
    "    s = \"number1\"\n",
    "    for i in range(len(statement)) :\n",
    "        if s == \"number1\":\n",
    "            if statement[i] in numbers:\n",
    "                num1 += statement[i]\n",
    "            else:\n",
    "                s = \"operation\"\n",
    "        elif s == \"operation\" :\n",
    "            if statement[i] in operations:\n",
    "                operation += statement[i]\n",
    "            elif statement[i] == \" \":\n",
    "                s = \"number2\"\n",
    "        elif s == \"number2\":\n",
    "            if statement[i] in numbers:\n",
    "                num2 += statement[i]\n",
    "\n",
    "    num1 = int (num1)\n",
    "    num2 = int (num2)\n",
    "    if operation == \"+\":\n",
    "        return num1 + num2\n",
    "    if operation == \"-\":\n",
    "        return num1 - num2\n",
    "    if operation == \"*\":\n",
    "        return num1 * num2\n",
    "    if operation == \"/\":\n",
    "        return num1 / num2\n",
    "    if operation == \"//\":\n",
    "        return num1 // num2\n",
    "    \n",
    "arithmetic_operation(\"12 / 13\")\n"
   ]
  },
  {
   "cell_type": "markdown",
   "metadata": {},
   "source": [
    "# Abstraction\n"
   ]
  },
  {
   "cell_type": "code",
   "execution_count": 8,
   "metadata": {},
   "outputs": [
    {
     "name": "stdout",
     "output_type": "stream",
     "text": [
      "Tom\n",
      "Meow Meow\n",
      "10\n",
      "20\n",
      "50\n"
     ]
    }
   ],
   "source": [
    "class pet():\n",
    "    def __init__(self,name,color,age):\n",
    "        self.name = name\n",
    "        self.color = color\n",
    "        self.age = age  # Public\n",
    "        self._x = 10    # Protected\n",
    "        self.__y = 20   # Private\n",
    "\n",
    "    def read_y(self):   #getter\n",
    "        print(self.__y)\n",
    "    \n",
    "    def set_y(self,v):  #setter\n",
    "        self.__y  = v \n",
    "\n",
    "    def __hamada(self): #Private Method\n",
    "        print(\"Hello World\")\n",
    "\n",
    "class cat(pet):\n",
    "    def __init__(self, name, color, age):\n",
    "        super().__init__(name, color, age)\n",
    "\n",
    "    def speak(self):\n",
    "        print(\"Meow Meow\")\n",
    "\n",
    "class dog(pet):\n",
    "    def __init__(self, name, color, age):\n",
    "        super().__init__(name, color, age)\n",
    "\n",
    "    def speak(self):\n",
    "        print(\"Woof Woof\")\n",
    "\n",
    "tom = cat(\"Tom\", \"Grey\" , 10)\n",
    "print(tom.name)\n",
    "tom.speak()\n",
    "print(tom._x)\n",
    "# print(tom.__y)\n",
    "tom.read_y()\n",
    "tom.set_y(50)\n",
    "tom.read_y()\n",
    "# tom.__hamada()\n"
   ]
  },
  {
   "cell_type": "markdown",
   "metadata": {},
   "source": [
    "# Quiz"
   ]
  },
  {
   "cell_type": "code",
   "execution_count": 1,
   "metadata": {},
   "outputs": [
    {
     "name": "stdout",
     "output_type": "stream",
     "text": [
      "[[3], 6, 2]\n",
      "[3, [6], 2]\n",
      "[3, 6, [2]]\n",
      "[[3], 6, 2]\n",
      "[3, [6], 2]\n",
      "[3, 6, [2]]\n"
     ]
    }
   ],
   "source": [
    "class Menu():\n",
    "    def __init__(self,nums):\n",
    "        self.nums = nums\n",
    "        self.cursor = 0\n",
    "        self.nums[self.cursor] = [self.nums[self.cursor]]\n",
    "    \n",
    "    def display(self):\n",
    "        print(str(self.nums))\n",
    "\n",
    "    def to_the_right(self): \n",
    "        self.nums[self.cursor] = self.nums[self.cursor][0]\n",
    "        self.cursor += 1\n",
    "        if self.cursor >= len(self.nums):\n",
    "            self.cursor = 0\n",
    "        self.nums[self.cursor] = [self.nums[self.cursor]]\n",
    "\n",
    "\n",
    "menu = Menu([3,6,2])\n",
    "menu.display()\n",
    "menu.to_the_right()\n",
    "menu.display()\n",
    "menu.to_the_right()\n",
    "menu.display()\n",
    "menu.to_the_right()\n",
    "menu.display()\n",
    "menu.to_the_right()\n",
    "menu.display()\n",
    "menu.to_the_right()\n",
    "menu.display()"
   ]
  },
  {
   "cell_type": "code",
   "execution_count": 2,
   "metadata": {},
   "outputs": [
    {
     "name": "stdout",
     "output_type": "stream",
     "text": [
      "23\n"
     ]
    }
   ],
   "source": [
    "class Icecream :\n",
    "    def __init__(self, flavor , num_sprinkles):\n",
    "        self.flavor = flavor\n",
    "        self.num_sprinkles = num_sprinkles\n",
    "\n",
    "def sweetest_icecream(arr):\n",
    "    SweetnessValue = {\"Plain\" : 0 , \"Vanilla\" : 5 , \"ChocolateChip\" : 5 , \"Strawberry\" : 10 , \"Chocolate\" : 10}\n",
    "    sweetest = arr[0].num_sprinkles +  SweetnessValue[arr[0].flavor]\n",
    "    for i in range(1,len(arr)):\n",
    "        icex = arr[i]\n",
    "        ice_sweetness = icex.num_sprinkles + SweetnessValue[icex.flavor]\n",
    "        if ice_sweetness > sweetest:\n",
    "            sweetest = ice_sweetness\n",
    "    return sweetest\n",
    "\n",
    "ice1 = Icecream(\"Chocolate\" , 13)            # value of 23\n",
    "ice2 = Icecream(\"Vanilla\" , 0)               # value of 5\n",
    "ice3 = Icecream(\"Strawberry\" , 7)            # value of 17\n",
    "ice4 = Icecream(\"Plain\" , 18)                # value of 18\n",
    "ice5 = Icecream(\"ChocolateChip\" , 3)         # value of 8\n",
    "\n",
    "print(sweetest_icecream([ice1 , ice2 , ice3 , ice4 , ice5]))"
   ]
  },
  {
   "cell_type": "code",
   "execution_count": 4,
   "metadata": {},
   "outputs": [
    {
     "name": "stdout",
     "output_type": "stream",
     "text": [
      "Ahmed eats the Ice Cream and loves it\n",
      "Ahmed eats the Eggplant and hates it\n",
      "Ahmed eats the eggs\n"
     ]
    }
   ],
   "source": [
    "class person():\n",
    "    def __init__(self, name , likes , hates):\n",
    "        self.name = name\n",
    "        self.likes = likes\n",
    "        self.hates = hates\n",
    "\n",
    "    def taste(self, food):\n",
    "        if food in self.likes:\n",
    "            return self.name + \" eats the \" + food + \" and loves it\"\n",
    "        if food in self.hates:\n",
    "            return self.name + \" eats the \" + food + \" and hates it\"\n",
    "        else :\n",
    "            return self.name + \" eats the \"+food\n",
    "        \n",
    "ahmed = person(\"Ahmed\",[\"Ice Cream\", \"Soup\"],[\"Eggplant\"])\n",
    "print(ahmed.taste(\"Ice Cream\"))\n",
    "print(ahmed.taste(\"Eggplant\"))\n",
    "print(ahmed.taste(\"eggs\"))"
   ]
  },
  {
   "cell_type": "markdown",
   "metadata": {},
   "source": [
    "# Polymorphism"
   ]
  },
  {
   "cell_type": "code",
   "execution_count": 5,
   "metadata": {},
   "outputs": [
    {
     "name": "stdout",
     "output_type": "stream",
     "text": [
      "(5,7)\n",
      "(3,4)\n",
      "(8,11)\n",
      "(13,17)\n",
      "5\n",
      "(5,5)\n"
     ]
    }
   ],
   "source": [
    "class point2d():\n",
    "    def __init__(self,x,y) -> None: #Overload\n",
    "        self.x = x\n",
    "        self.y = y\n",
    "\n",
    "    def __str__(self) -> str:       #Overload\n",
    "        return \"(\"+str(self.x)+\",\" +str(self.y) + \")\"\n",
    "\n",
    "    def __add__(self , other) : \n",
    "        return point2d(self.x+other.x , self.y+other.y)\n",
    "\n",
    "    def __getitem__(self,idx):\n",
    "        if idx >= 0 and idx <2:\n",
    "            if idx == 0:\n",
    "                return self.x\n",
    "            else:\n",
    "                return self.y\n",
    "        else:\n",
    "            raise \n",
    "        \n",
    "class tmp(point2d):\n",
    "    def __init__(self, x, y) -> None:\n",
    "        super().__init__(x, y)\n",
    "\n",
    "\n",
    "p1 = point2d(5,7)\n",
    "print(p1)\n",
    "p2 = point2d(3,4)\n",
    "print(p2)\n",
    "res = p1 + p2\n",
    "print(res)\n",
    "p3 = point2d(5,6)\n",
    "print(p1+p2+p3)\n",
    "print(p1[0])\n",
    "\n",
    "v = tmp(5,5)\n",
    "print(v)\n",
    "\n",
    "        "
   ]
  },
  {
   "cell_type": "markdown",
   "metadata": {},
   "source": [
    "# Abstract Classes "
   ]
  },
  {
   "cell_type": "code",
   "execution_count": 6,
   "metadata": {},
   "outputs": [
    {
     "name": "stdout",
     "output_type": "stream",
     "text": [
      "John\n",
      "Hello, my name is  John I am Employee\n"
     ]
    }
   ],
   "source": [
    "from abc import ABC , abstractmethod\n",
    "class person(ABC) : # Abstrac Class to be use as a base model\n",
    "    def __init__(self , name):\n",
    "        self.name = name\n",
    "\n",
    "    @abstractmethod\n",
    "    def get_role(self):\n",
    "        pass\n",
    "\n",
    "    def say_hello(self):\n",
    "        self.role = self.get_role() \n",
    "        print(\"Hello, my name is \",self.name,\"I am\",self.role)\n",
    "\n",
    "class employee(person):\n",
    "    def __init__(self, name):\n",
    "        super().__init__(name)\n",
    "\n",
    "    def get_role(self): # Override\n",
    "        return \"Employee\"\n",
    "    \n",
    "\n",
    "john = employee(\"John\")\n",
    "print(john.name)\n",
    "john.say_hello()"
   ]
  },
  {
   "cell_type": "code",
   "execution_count": null,
   "metadata": {},
   "outputs": [],
   "source": []
  }
 ],
 "metadata": {
  "kernelspec": {
   "display_name": "base",
   "language": "python",
   "name": "python3"
  },
  "language_info": {
   "codemirror_mode": {
    "name": "ipython",
    "version": 3
   },
   "file_extension": ".py",
   "mimetype": "text/x-python",
   "name": "python",
   "nbconvert_exporter": "python",
   "pygments_lexer": "ipython3",
   "version": "3.12.3"
  }
 },
 "nbformat": 4,
 "nbformat_minor": 2
}
