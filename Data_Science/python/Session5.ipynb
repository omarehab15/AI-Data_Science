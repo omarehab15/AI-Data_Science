{
 "cells": [
  {
   "cell_type": "markdown",
   "metadata": {},
   "source": [
    "# Quiz1\n",
    " ==> Validate Price"
   ]
  },
  {
   "cell_type": "code",
   "execution_count": 8,
   "metadata": {},
   "outputs": [
    {
     "data": {
      "text/plain": [
       "True"
      ]
     },
     "execution_count": 8,
     "metadata": {},
     "output_type": "execute_result"
    }
   ],
   "source": [
    "def validate_price(data) : \n",
    "    if(type(data[\"Price\"]) != int ) and (type(data[\"Price\"]) != float ):\n",
    "        return False\n",
    "    elif data[\"Price\"] < 0 :\n",
    "        return False\n",
    "    else:\n",
    "        return True\n",
    "    \n",
    "validate_price({ \"product\": \"Milk\", \"Price\": 0 })"
   ]
  },
  {
   "cell_type": "markdown",
   "metadata": {},
   "source": [
    "# Variable Scope"
   ]
  },
  {
   "cell_type": "code",
   "execution_count": 10,
   "metadata": {},
   "outputs": [
    {
     "name": "stdout",
     "output_type": "stream",
     "text": [
      "[34, 54, 456, 34, 24]\n",
      "[1, 2, 3]\n"
     ]
    }
   ],
   "source": [
    "num = [34 , 54 , 23 , 456 , 57 , 34 , 24 , 5]       # global variable\n",
    "tmp = [1,2,3] #global\n",
    "\n",
    "def get_evens():\n",
    "    tmp = [] #local \n",
    "    for nums in num :\n",
    "        if nums %2 ==0: # append even numbers\n",
    "            tmp.append(nums)\n",
    "\n",
    "    return  tmp\n",
    "\n",
    "print(get_evens())\n",
    "print(tmp)"
   ]
  },
  {
   "cell_type": "code",
   "execution_count": 11,
   "metadata": {},
   "outputs": [
    {
     "name": "stdout",
     "output_type": "stream",
     "text": [
      "7\n",
      "5\n",
      "7\n",
      "7\n"
     ]
    }
   ],
   "source": [
    "# Vraibale (global) : Scope -> across the file , \n",
    "#                     lifitime -> when the program finishes\n",
    "# Variable (Local)  : Scope -> Function \"Block\" , \n",
    "#                     lifetime -> when the function or block ends\n",
    "\n",
    "c = 5 \n",
    "def func() : \n",
    "    c = 7 \n",
    "    print(c)\n",
    "\n",
    "func()\n",
    "print(c)\n",
    "\n",
    "c = 5 \n",
    "def fun() : \n",
    "    global c \n",
    "    c = 7 \n",
    "    print(c)\n",
    "\n",
    "fun()\n",
    "print(c)"
   ]
  },
  {
   "cell_type": "markdown",
   "metadata": {},
   "source": [
    "# Object Oriented Prgramming \n",
    "oop is based on 4 principles : \n",
    "- Encapsulation \n",
    "- Inheritance\n",
    "- Abstraction\n",
    "- Polymorphism"
   ]
  },
  {
   "cell_type": "code",
   "execution_count": 17,
   "metadata": {},
   "outputs": [
    {
     "name": "stdout",
     "output_type": "stream",
     "text": [
      "<__main__.car object at 0x00000262BCF649B0>\n",
      "<class '__main__.car'>\n",
      "None\n",
      "X6\n",
      "Black\n",
      "None\n"
     ]
    }
   ],
   "source": [
    "class car():\n",
    "    # Attributes\n",
    "    model = None\n",
    "    color = None\n",
    "    brand = None\n",
    "\n",
    "\n",
    "# object \n",
    "bmw = car()\n",
    "print(bmw)\n",
    "print(type(bmw))\n",
    "print(bmw.model)\n",
    "bmw.model = \"X6\"\n",
    "bmw.color = \"Black\"\n",
    "print(bmw.model)\n",
    "print(bmw.color)\n",
    "audi  = car()\n",
    "print(audi.model)"
   ]
  },
  {
   "cell_type": "code",
   "execution_count": 19,
   "metadata": {},
   "outputs": [
    {
     "name": "stdout",
     "output_type": "stream",
     "text": [
      "Audi Q8\n",
      "0\n",
      "4\n",
      "8\n",
      "7\n"
     ]
    }
   ],
   "source": [
    "class car():\n",
    "    # Attributes\n",
    "    model = None\n",
    "    color = None\n",
    "    speed = 0\n",
    "\n",
    "    # Methods\n",
    "    def acclerate(self,x):\n",
    "        self.speed += x\n",
    "    \n",
    "    def deacclerate(self):\n",
    "        self.speed -= 1\n",
    "\n",
    "audi = car()\n",
    "\n",
    "audi.model = \"Audi Q8\"\n",
    "print(audi.model)\n",
    "print(audi.speed)\n",
    "audi.acclerate(4) # ==> audi.acclerate(audi,x)\n",
    "print(audi.speed)\n",
    "audi.acclerate(4) # ==> audi.acclerate(audi,x)\n",
    "print(audi.speed)\n",
    "audi.deacclerate() \n",
    "print(audi.speed)\n",
    "\n",
    "\n"
   ]
  },
  {
   "cell_type": "markdown",
   "metadata": {},
   "source": [
    "# Quiz2 \n",
    "Name class"
   ]
  },
  {
   "cell_type": "code",
   "execution_count": 20,
   "metadata": {},
   "outputs": [
    {
     "name": "stdout",
     "output_type": "stream",
     "text": [
      "Omar Ehab\n",
      "O.E\n"
     ]
    }
   ],
   "source": [
    "class Name() : \n",
    "    first = None\n",
    "    last = None\n",
    "\n",
    "    def get_fullName(self) : \n",
    "        self.full_name = self.first + \" \" + self.last\n",
    "\n",
    "    def get_initials(self):\n",
    "        self.initials = self.first[0] + \".\" + self.last[0]\n",
    "\n",
    "ahmed = Name()\n",
    "ahmed.first = \"Omar\"\n",
    "ahmed.last = \"Ehab\"\n",
    "ahmed.get_fullName()\n",
    "print(ahmed.full_name)\n",
    "ahmed.get_initials()\n",
    "print(ahmed.initials)"
   ]
  },
  {
   "cell_type": "markdown",
   "metadata": {},
   "source": [
    "# Quiz3 \n",
    "calculator class "
   ]
  },
  {
   "cell_type": "code",
   "execution_count": 21,
   "metadata": {},
   "outputs": [
    {
     "name": "stdout",
     "output_type": "stream",
     "text": [
      "10\n",
      "-2\n",
      "24\n",
      "0.6666666666666666\n"
     ]
    }
   ],
   "source": [
    "class Calculator():\n",
    "    def add(self,x,y):\n",
    "        return x+y\n",
    "    \n",
    "    def sub(self,x,y):\n",
    "        return x-y\n",
    "    \n",
    "    def mul(self,x,y):\n",
    "        return x*y\n",
    "    \n",
    "    def div(self,x,y):\n",
    "        return x/y\n",
    "    \n",
    "# calc = Calculator() #Instance of class calculator\n",
    "# print(calc.add(4,6))\n",
    "# print(calc.sub(4,6))\n",
    "# print(calc.mul(4,6))\n",
    "# print(calc.div(4,6))"
   ]
  },
  {
   "cell_type": "code",
   "execution_count": 24,
   "metadata": {},
   "outputs": [
    {
     "ename": "TypeError",
     "evalue": "unsupported operand type(s) for +: 'NoneType' and 'NoneType'",
     "output_type": "error",
     "traceback": [
      "\u001b[1;31m---------------------------------------------------------------------------\u001b[0m",
      "\u001b[1;31mTypeError\u001b[0m                                 Traceback (most recent call last)",
      "Cell \u001b[1;32mIn[24], line 11\u001b[0m\n\u001b[0;32m      8\u001b[0m calc \u001b[38;5;241m=\u001b[39m Calculator()\n\u001b[0;32m      9\u001b[0m \u001b[38;5;66;03m# calc.x = 5 \u001b[39;00m\n\u001b[0;32m     10\u001b[0m \u001b[38;5;66;03m# calc.y = 7 \u001b[39;00m\n\u001b[1;32m---> 11\u001b[0m \u001b[38;5;28mprint\u001b[39m(\u001b[43mcalc\u001b[49m\u001b[38;5;241;43m.\u001b[39;49m\u001b[43madd\u001b[49m\u001b[43m(\u001b[49m\u001b[43m)\u001b[49m)\n",
      "Cell \u001b[1;32mIn[24], line 6\u001b[0m, in \u001b[0;36mCalculator.add\u001b[1;34m(self)\u001b[0m\n\u001b[0;32m      5\u001b[0m \u001b[38;5;28;01mdef\u001b[39;00m \u001b[38;5;21madd\u001b[39m(\u001b[38;5;28mself\u001b[39m):\n\u001b[1;32m----> 6\u001b[0m     \u001b[38;5;28;01mreturn\u001b[39;00m \u001b[38;5;28;43mself\u001b[39;49m\u001b[38;5;241;43m.\u001b[39;49m\u001b[43mx\u001b[49m\u001b[43m \u001b[49m\u001b[38;5;241;43m+\u001b[39;49m\u001b[43m \u001b[49m\u001b[38;5;28;43mself\u001b[39;49m\u001b[38;5;241;43m.\u001b[39;49m\u001b[43my\u001b[49m\n",
      "\u001b[1;31mTypeError\u001b[0m: unsupported operand type(s) for +: 'NoneType' and 'NoneType'"
     ]
    }
   ],
   "source": [
    "class Calculator() : \n",
    "    x = None\n",
    "    y = None\n",
    "\n",
    "    def add(self):\n",
    "        return self.x + self.y\n",
    "    \n",
    "calc = Calculator()\n",
    "# calc.x = 5 \n",
    "# calc.y = 7 \n",
    "print(calc.add())\n",
    "    "
   ]
  },
  {
   "cell_type": "code",
   "execution_count": 1,
   "metadata": {},
   "outputs": [
    {
     "name": "stdout",
     "output_type": "stream",
     "text": [
      "Class Created\n",
      "10\n"
     ]
    }
   ],
   "source": [
    "# Constructor\n",
    "class Calculator():\n",
    "\n",
    "    def __init__(self,x,y):\n",
    "        self.x = x \n",
    "        self.y = y\n",
    "        print(\"Class Created\")\n",
    "\n",
    "    def add(self):\n",
    "        return self.x + self.y\n",
    "    \n",
    "calc = Calculator(6,4)\n",
    "print(calc.add())"
   ]
  },
  {
   "cell_type": "markdown",
   "metadata": {},
   "source": [
    "# Quiz4\n",
    "Create circle class"
   ]
  },
  {
   "cell_type": "code",
   "execution_count": 2,
   "metadata": {},
   "outputs": [
    {
     "name": "stdout",
     "output_type": "stream",
     "text": [
      "28.26\n",
      "18.84\n"
     ]
    }
   ],
   "source": [
    "class Circle():\n",
    "    def __init__(self,r):\n",
    "        self.r  = r\n",
    "        self.pi = 3.14\n",
    "\n",
    "    def get_Area(self):\n",
    "        return self.pi * ( self.r **2 )\n",
    "    \n",
    "    def perimeter(self):\n",
    "        return 2 * self.r * self.pi\n",
    "    \n",
    "c = Circle(3)\n",
    "print(c.get_Area())\n",
    "print(c.perimeter())"
   ]
  },
  {
   "cell_type": "markdown",
   "metadata": {},
   "source": [
    "# Inheritance "
   ]
  },
  {
   "cell_type": "code",
   "execution_count": 3,
   "metadata": {},
   "outputs": [
    {
     "name": "stdout",
     "output_type": "stream",
     "text": [
      "Meow....Meow\n",
      "Woof....Woof\n"
     ]
    }
   ],
   "source": [
    "class cat():\n",
    "    def __init__(self,c,n,a):\n",
    "        self.color = c\n",
    "        self.name  = n\n",
    "        self.age   = a\n",
    "\n",
    "    def speak(self):\n",
    "        print(\"Meow....Meow\")\n",
    "\n",
    "class dog():\n",
    "    def __init__(self,c,n,a):\n",
    "        self.color = c\n",
    "        self.name  = n\n",
    "        self.age   = a\n",
    "\n",
    "    def speak(self):\n",
    "        print(\"Woof....Woof\")\n",
    "\n",
    "tom   = cat(\"Grey\"  , \"Tom\" , 12)\n",
    "spike = dog(\"black\" , \"Spike\" , 14)\n",
    "\n",
    "tom.speak()\n",
    "spike.speak()"
   ]
  },
  {
   "cell_type": "code",
   "execution_count": 8,
   "metadata": {},
   "outputs": [
    {
     "name": "stdout",
     "output_type": "stream",
     "text": [
      "Meow....Meow\n",
      "Woof....Woof\n"
     ]
    }
   ],
   "source": [
    "class pet():\n",
    "    def __init__(self,c,n,a):\n",
    "        self.color = c\n",
    "        self.name  = n\n",
    "        self.age   = a\n",
    "\n",
    "class cat(pet):\n",
    "    def __init__(self,c,n,a):\n",
    "        super().__init__(c,n,a)\n",
    "\n",
    "    def Speak(self):\n",
    "        print(\"Meow....Meow\")\n",
    "\n",
    "class dog(pet):\n",
    "    def __init__(self,c,n,a):\n",
    "        super().__init__(c,n,a)\n",
    "\n",
    "    def Speak(self):\n",
    "        print(\"Woof....Woof\")\n",
    "\n",
    "tom   = cat(\"Grey\"  , \"Tom\" , 12)\n",
    "spike = dog(\"black\" , \"Spike\" , 14)\n",
    "\n",
    "tom.Speak()\n",
    "spike.Speak()\n"
   ]
  },
  {
   "cell_type": "markdown",
   "metadata": {},
   "source": [
    "# Quiz5\n",
    "get country comparison"
   ]
  },
  {
   "cell_type": "code",
   "execution_count": 12,
   "metadata": {},
   "outputs": [
    {
     "data": {
      "text/plain": [
       "'Australia has a larger population density than Andorra'"
      ]
     },
     "execution_count": 12,
     "metadata": {},
     "output_type": "execute_result"
    }
   ],
   "source": [
    "class Country():\n",
    "    def __init__(self,n,p,a)->None:\n",
    "        self.population = p\n",
    "        self.name = n\n",
    "        self.area = a\n",
    "        if a > 3000000 or p > 250000000:\n",
    "            self.is_big = True\n",
    "        else:\n",
    "            self.is_big = False\n",
    "\n",
    "    def compare(self,another):\n",
    "        if self.population > another.population :\n",
    "            sentence = \" has a larger population density than \"\n",
    "            return self.name + sentence + another.name\n",
    "        \n",
    "\n",
    "australia = Country(\"Australia\", 23545500, 7692024)\n",
    "andorra = Country(\"Andorra\", 76098, 468)\n",
    "\n",
    "australia.compare(andorra)"
   ]
  }
 ],
 "metadata": {
  "kernelspec": {
   "display_name": "base",
   "language": "python",
   "name": "python3"
  },
  "language_info": {
   "codemirror_mode": {
    "name": "ipython",
    "version": 3
   },
   "file_extension": ".py",
   "mimetype": "text/x-python",
   "name": "python",
   "nbconvert_exporter": "python",
   "pygments_lexer": "ipython3",
   "version": "3.12.3"
  }
 },
 "nbformat": 4,
 "nbformat_minor": 2
}
