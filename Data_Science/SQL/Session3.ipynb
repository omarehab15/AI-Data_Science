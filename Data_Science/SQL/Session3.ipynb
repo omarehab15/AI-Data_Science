{
 "cells": [
  {
   "cell_type": "code",
   "execution_count": 1,
   "metadata": {},
   "outputs": [
    {
     "name": "stdout",
     "output_type": "stream",
     "text": [
      "Successfully connected to the database\n"
     ]
    }
   ],
   "source": [
    "import mysql.connector\n",
    "\n",
    "# Replace with your own database credentials\n",
    "config = {\n",
    "    'user': 'root',\n",
    "    'password': 'root',\n",
    "    'host': 'localhost',\n",
    "    'database': 'debi'\n",
    "}\n",
    "\n",
    "# Establish a connection to the database\n",
    "try:\n",
    "    connection = mysql.connector.connect(**config)\n",
    "    if connection.is_connected():\n",
    "        print(\"Successfully connected to the database\")\n",
    "except mysql.connector.Error as err:\n",
    "    print(f\"Error: {err}\")"
   ]
  },
  {
   "cell_type": "code",
   "execution_count": 2,
   "metadata": {},
   "outputs": [
    {
     "data": {
      "text/plain": [
       "[('employee',), ('mobile',), ('salary',)]"
      ]
     },
     "execution_count": 2,
     "metadata": {},
     "output_type": "execute_result"
    }
   ],
   "source": [
    "cursor = connection.cursor()\n",
    "cursor.execute(\"SHOW TABLES\")\n",
    "cursor.fetchall()"
   ]
  },
  {
   "cell_type": "markdown",
   "metadata": {},
   "source": [
    "ORDER BY "
   ]
  },
  {
   "cell_type": "code",
   "execution_count": 6,
   "metadata": {},
   "outputs": [],
   "source": [
    "cursor.execute(\"SELECT * FROM mobile WHERE id<=5\")"
   ]
  },
  {
   "cell_type": "code",
   "execution_count": 7,
   "metadata": {},
   "outputs": [
    {
     "name": "stdout",
     "output_type": "stream",
     "text": [
      "(1, 1043, 1, 1.8, 1, 14, 0, 5, 0.1, 193, 3, 16, 226, 1412, 3476, 12, 7, 2, 0, 1, 0)\n",
      "(2, 841, 1, 0.5, 1, 4, 1, 61, 0.8, 191, 5, 12, 746, 857, 3895, 6, 0, 7, 1, 0, 0)\n",
      "(3, 1807, 1, 2.8, 0, 1, 0, 27, 0.9, 186, 3, 4, 1270, 1366, 2396, 17, 10, 10, 0, 1, 1)\n",
      "(4, 1546, 0, 0.5, 1, 18, 1, 25, 0.5, 96, 8, 20, 295, 1752, 3893, 10, 0, 7, 1, 1, 0)\n",
      "(5, 1434, 0, 1.4, 0, 11, 1, 49, 0.5, 108, 6, 18, 749, 810, 1773, 15, 8, 7, 1, 0, 1)\n"
     ]
    }
   ],
   "source": [
    "for d in cursor:\n",
    "    print(d)"
   ]
  },
  {
   "cell_type": "code",
   "execution_count": 10,
   "metadata": {},
   "outputs": [
    {
     "name": "stdout",
     "output_type": "stream",
     "text": [
      "(2, 841, 1, 0.5, 1, 4, 1, 61, 0.8, 191, 5, 12, 746, 857, 3895, 6, 0, 7, 1, 0, 0)\n",
      "(1, 1043, 1, 1.8, 1, 14, 0, 5, 0.1, 193, 3, 16, 226, 1412, 3476, 12, 7, 2, 0, 1, 0)\n",
      "(5, 1434, 0, 1.4, 0, 11, 1, 49, 0.5, 108, 6, 18, 749, 810, 1773, 15, 8, 7, 1, 0, 1)\n",
      "(4, 1546, 0, 0.5, 1, 18, 1, 25, 0.5, 96, 8, 20, 295, 1752, 3893, 10, 0, 7, 1, 1, 0)\n",
      "(3, 1807, 1, 2.8, 0, 1, 0, 27, 0.9, 186, 3, 4, 1270, 1366, 2396, 17, 10, 10, 0, 1, 1)\n"
     ]
    }
   ],
   "source": [
    "cursor.execute(\"SELECT * FROM mobile WHERE id<=5 ORDER BY battery_power ASC\")\n",
    "for d in cursor:\n",
    "    print(d)"
   ]
  },
  {
   "cell_type": "code",
   "execution_count": 11,
   "metadata": {},
   "outputs": [
    {
     "name": "stdout",
     "output_type": "stream",
     "text": [
      "(2, 841, 1, 0.5, 1, 4, 1, 61, 0.8, 191, 5, 12, 746, 857, 3895, 6, 0, 7, 1, 0, 0)\n",
      "(1, 1043, 1, 1.8, 1, 14, 0, 5, 0.1, 193, 3, 16, 226, 1412, 3476, 12, 7, 2, 0, 1, 0)\n",
      "(5, 1434, 0, 1.4, 0, 11, 1, 49, 0.5, 108, 6, 18, 749, 810, 1773, 15, 8, 7, 1, 0, 1)\n",
      "(4, 1546, 0, 0.5, 1, 18, 1, 25, 0.5, 96, 8, 20, 295, 1752, 3893, 10, 0, 7, 1, 1, 0)\n",
      "(3, 1807, 1, 2.8, 0, 1, 0, 27, 0.9, 186, 3, 4, 1270, 1366, 2396, 17, 10, 10, 0, 1, 1)\n"
     ]
    }
   ],
   "source": [
    "cursor.execute(\"SELECT * FROM mobile WHERE id<=5 ORDER BY battery_power ASC , clock_speed DESC\")\n",
    "for d in cursor:\n",
    "    print(d)"
   ]
  },
  {
   "cell_type": "code",
   "execution_count": 13,
   "metadata": {},
   "outputs": [
    {
     "name": "stdout",
     "output_type": "stream",
     "text": [
      "Tables created successfully\n"
     ]
    }
   ],
   "source": [
    "# Create the first table \n",
    "cursor.execute(\"\"\"\n",
    "CREATE TABLE IF NOT EXISTS info  (\n",
    "    id INT PRIMARY KEY,\n",
    "    name VARCHAR(255),\n",
    "    age INT\n",
    ")\n",
    "\"\"\")\n",
    "\n",
    "# Create the second table\n",
    "cursor.execute(\"\"\"\n",
    "CREATE TABLE IF NOT EXISTS salaries (\n",
    "    id INT PRIMARY KEY,\n",
    "    name VARCHAR(255),\n",
    "    salary INT\n",
    "               )\n",
    "\"\"\")\n",
    "\n",
    "# Commit the changes\n",
    "connection.commit()\n",
    "\n",
    "print(\"Tables created successfully\")"
   ]
  },
  {
   "cell_type": "code",
   "execution_count": 16,
   "metadata": {},
   "outputs": [
    {
     "data": {
      "text/plain": [
       "[('employee',), ('info',), ('mobile',), ('salaries',), ('salary',)]"
      ]
     },
     "execution_count": 16,
     "metadata": {},
     "output_type": "execute_result"
    }
   ],
   "source": [
    "# cursor.execute(\"SHOW TABLES\")\n",
    "cursor.fetchall()"
   ]
  },
  {
   "cell_type": "code",
   "execution_count": 17,
   "metadata": {},
   "outputs": [
    {
     "name": "stdout",
     "output_type": "stream",
     "text": [
      "Data inserted successfully\n"
     ]
    }
   ],
   "source": [
    "# Insert data into the info table\n",
    "cursor.execute(\"\"\"\n",
    "INSERT INTO info (id, name, age) VALUES\n",
    "(1, 'Alice', 25),\n",
    "(2, 'Bob', 30),\n",
    "(3, 'Charlie', 35)\n",
    "\"\"\")\n",
    "\n",
    "# Insert data into the salaries table\n",
    "cursor.execute(\"\"\"\n",
    "INSERT INTO salaries (id, name, salary) VALUES\n",
    "(1, 'Alice', 50000),\n",
    "(2, 'Bob', 60000),\n",
    "(3, 'Charlie', 70000)\n",
    "\"\"\")\n",
    "\n",
    "# Commit the changes\n",
    "connection.commit()\n",
    "\n",
    "print(\"Data inserted successfully\")"
   ]
  },
  {
   "cell_type": "code",
   "execution_count": 18,
   "metadata": {},
   "outputs": [
    {
     "name": "stdout",
     "output_type": "stream",
     "text": [
      "Data inserted successfully\n"
     ]
    }
   ],
   "source": [
    "# Insert data into the info table\n",
    "cursor.execute(\"\"\"\n",
    "INSERT INTO info (id, name, age) VALUES\n",
    "(4, 'Khaled', 25)\n",
    "\"\"\")\n",
    "\n",
    "# Insert data into the salaries table\n",
    "cursor.execute(\"\"\"\n",
    "INSERT INTO salaries (id, name, salary) VALUES\n",
    "(6, 'Hassan', 50000)\n",
    "\"\"\")\n",
    "\n",
    "# Commit the changes\n",
    "connection.commit()\n",
    "\n",
    "print(\"Data inserted successfully\")"
   ]
  },
  {
   "cell_type": "code",
   "execution_count": 19,
   "metadata": {},
   "outputs": [
    {
     "name": "stdout",
     "output_type": "stream",
     "text": [
      "(1, 'Alice', 25)\n",
      "(2, 'Bob', 30)\n",
      "(3, 'Charlie', 35)\n",
      "(4, 'Khaled', 25)\n"
     ]
    }
   ],
   "source": [
    "cursor.execute(\"SELECT * FROM info\")\n",
    "for d in cursor:\n",
    "    print(d)"
   ]
  },
  {
   "cell_type": "markdown",
   "metadata": {},
   "source": [
    "Inner Join"
   ]
  },
  {
   "cell_type": "code",
   "execution_count": 20,
   "metadata": {},
   "outputs": [
    {
     "name": "stdout",
     "output_type": "stream",
     "text": [
      "(1, 'Alice', 25, 1, 'Alice', 50000)\n",
      "(2, 'Bob', 30, 2, 'Bob', 60000)\n",
      "(3, 'Charlie', 35, 3, 'Charlie', 70000)\n"
     ]
    }
   ],
   "source": [
    "cursor.execute(\"SELECT * FROM info INNER JOIN salaries ON info.id = salaries.id\")\n",
    "for d in cursor:\n",
    "    print(d)"
   ]
  },
  {
   "cell_type": "code",
   "execution_count": 21,
   "metadata": {},
   "outputs": [
    {
     "name": "stdout",
     "output_type": "stream",
     "text": [
      "('Alice', 25, 50000)\n",
      "('Bob', 30, 60000)\n",
      "('Charlie', 35, 70000)\n"
     ]
    }
   ],
   "source": [
    "cursor.execute(\"\"\"\n",
    "               SELECT i.name,i.age,s.salary \n",
    "               FROM info i\n",
    "               INNER JOIN salaries s\n",
    "               ON i.id = s.id\n",
    "               \"\"\")\n",
    "for d in cursor:\n",
    "    print(d)"
   ]
  },
  {
   "cell_type": "markdown",
   "metadata": {},
   "source": [
    "Outer Join"
   ]
  },
  {
   "cell_type": "code",
   "execution_count": 22,
   "metadata": {},
   "outputs": [
    {
     "name": "stdout",
     "output_type": "stream",
     "text": [
      "('Alice', 25, 50000)\n",
      "('Bob', 30, 60000)\n",
      "('Charlie', 35, 70000)\n",
      "('Khaled', 25, None)\n"
     ]
    }
   ],
   "source": [
    "# LEFT JOIN\n",
    "cursor.execute(\"\"\"\n",
    "               SELECT i.name,i.age,s.salary \n",
    "               FROM info i\n",
    "               LEFT JOIN salaries s\n",
    "               ON i.id = s.id\n",
    "               \"\"\")\n",
    "for d in cursor:\n",
    "    print(d)"
   ]
  },
  {
   "cell_type": "code",
   "execution_count": 23,
   "metadata": {},
   "outputs": [
    {
     "name": "stdout",
     "output_type": "stream",
     "text": [
      "('Alice', 25, 50000)\n",
      "('Bob', 30, 60000)\n",
      "('Charlie', 35, 70000)\n",
      "('Hassan', None, 50000)\n"
     ]
    }
   ],
   "source": [
    "# RIGHT JOIN\n",
    "cursor.execute(\"\"\"\n",
    "               SELECT s.name,i.age,s.salary \n",
    "               FROM info i\n",
    "               RIGHT JOIN salaries s\n",
    "               ON i.id = s.id\n",
    "               \"\"\")\n",
    "for d in cursor:\n",
    "    print(d)"
   ]
  },
  {
   "cell_type": "code",
   "execution_count": 24,
   "metadata": {},
   "outputs": [
    {
     "name": "stdout",
     "output_type": "stream",
     "text": [
      "('Alice', 25, 50000)\n",
      "('Bob', 30, 60000)\n",
      "('Charlie', 35, 70000)\n",
      "('Khaled', 25, None)\n",
      "('Hassan', None, 50000)\n"
     ]
    }
   ],
   "source": [
    "# FULL OUTER JOIN\n",
    "cursor.execute(\"\"\"\n",
    "                SELECT i.name, i.age , s.salary\n",
    "                FROM info i\n",
    "                LEFT JOIN salaries s ON i.id = s.id\n",
    "\n",
    "                UNION DISTINCT\n",
    "\n",
    "                SELECT s.name, i.age , s.salary\n",
    "                FROM info i\n",
    "                RIGHT JOIN salaries s ON i.id = s.id\n",
    "               \"\"\")\n",
    "for d in cursor:\n",
    "    print(d)"
   ]
  },
  {
   "cell_type": "code",
   "execution_count": 25,
   "metadata": {},
   "outputs": [
    {
     "name": "stdout",
     "output_type": "stream",
     "text": [
      "('Hassan', None, 50000)\n"
     ]
    }
   ],
   "source": [
    "# Differnce between Two tables on Right\n",
    "cursor.execute(\"\"\"\n",
    "                SELECT s.name, i.age , s.salary\n",
    "                FROM info i\n",
    "                RIGHT JOIN salaries s ON i.id = s.id\n",
    "                WHERE i.id IS NULL\n",
    "               \"\"\")\n",
    "for d in cursor:\n",
    "    print(d)"
   ]
  },
  {
   "cell_type": "code",
   "execution_count": 26,
   "metadata": {},
   "outputs": [
    {
     "name": "stdout",
     "output_type": "stream",
     "text": [
      "('Khaled', 25, None)\n",
      "('Hassan', None, 50000)\n"
     ]
    }
   ],
   "source": [
    "# Differnce between Two tables on Left\n",
    "cursor.execute(\"\"\"\n",
    "                SELECT i.name, i.age , s.salary\n",
    "                FROM info i\n",
    "                LEFT JOIN salaries s ON i.id = s.id\n",
    "                WHERE i.id IS NULL OR s.id IS NULL\n",
    "\n",
    "                UNION DISTINCT\n",
    "\n",
    "                SELECT s.name, i.age , s.salary\n",
    "                FROM info i\n",
    "                RIGHT JOIN salaries s ON i.id = s.id\n",
    "                WHERE i.id IS NULL OR s.id IS NULL\n",
    "               \"\"\")\n",
    "for d in cursor:\n",
    "    print(d)"
   ]
  },
  {
   "cell_type": "markdown",
   "metadata": {},
   "source": [
    "Aggregate functions "
   ]
  },
  {
   "cell_type": "code",
   "execution_count": 27,
   "metadata": {},
   "outputs": [
    {
     "name": "stdout",
     "output_type": "stream",
     "text": [
      "(70000, 50000, Decimal('60000.0000'))\n"
     ]
    }
   ],
   "source": [
    "cursor.execute(\"\"\"\n",
    "SELECT MAX(s.salary) , MIN(s.salary) , AVG(s.salary)\n",
    "                FROM info i\n",
    "                INNER JOIN salaries s ON i.id = s.id\n",
    "\"\"\")\n",
    "\n",
    "for d in cursor:\n",
    "    print(d)"
   ]
  },
  {
   "cell_type": "markdown",
   "metadata": {},
   "source": [
    "GROUP BY "
   ]
  },
  {
   "cell_type": "code",
   "execution_count": 28,
   "metadata": {},
   "outputs": [
    {
     "name": "stdout",
     "output_type": "stream",
     "text": [
      "Data inserted successfully\n"
     ]
    }
   ],
   "source": [
    "# Create the Customer table\n",
    "cursor.execute(\"\"\"\n",
    "CREATE TABLE IF NOT EXISTS Customer (\n",
    "    CustomerID INT PRIMARY KEY,\n",
    "    CustomerName VARCHAR(255),\n",
    "    ContactName VARCHAR(255),\n",
    "    Address VARCHAR(255),\n",
    "    City VARCHAR(255),\n",
    "    PostalCode VARCHAR(20),\n",
    "    Country VARCHAR(50)\n",
    ")\n",
    "\"\"\")\n",
    "\n",
    "connection.commit()\n",
    "\n",
    "print(\"Data inserted successfully\")"
   ]
  },
  {
   "cell_type": "code",
   "execution_count": 30,
   "metadata": {},
   "outputs": [],
   "source": [
    "# Insert data into the Customer table\n",
    "cursor.execute(\"\"\"\n",
    "INSERT INTO Customer (CustomerID, CustomerName, ContactName, Address, City, PostalCode, Country) VALUES\n",
    "(1, 'Alfreds Futterkiste', 'Maria Anders', 'Obere Str. 57', 'Berlin', '12209', 'Germany'),\n",
    "(2, 'Ana Trujillo Emparedados y helados', 'Ana Trujillo', 'Avda. de la Constitución 2222', 'México D.F.', '05021', 'Mexico'),\n",
    "(3, 'Antonio Moreno Taquería', 'Antonio Moreno', 'Mataderos 2312', 'México D.F.', '05023', 'Mexico'),\n",
    "(4, 'Around the Horn', 'Thomas Hardy', '120 Hanover Sq.', 'London', 'WA1 1DP', 'UK'),\n",
    "(5, 'Berglunds snabbköp', 'Christina Berglund', 'Berguvsvägen 8', 'Luleå', 'S-958 22', 'Sweden')\n",
    "\"\"\")"
   ]
  },
  {
   "cell_type": "code",
   "execution_count": 31,
   "metadata": {},
   "outputs": [
    {
     "name": "stdout",
     "output_type": "stream",
     "text": [
      "('Mexico', 2)\n",
      "('Germany', 1)\n",
      "('UK', 1)\n",
      "('Sweden', 1)\n"
     ]
    }
   ],
   "source": [
    "cursor.execute(\"\"\"\n",
    "SELECT Country,COUNT(CustomerID)\n",
    "FROM Customer\n",
    "GROUP BY Country\n",
    "ORDER BY COUNT(CustomerID) DESC\n",
    "\n",
    "\"\"\")\n",
    "\n",
    "for d in cursor:\n",
    "    print(d)"
   ]
  },
  {
   "cell_type": "code",
   "execution_count": null,
   "metadata": {},
   "outputs": [],
   "source": []
  }
 ],
 "metadata": {
  "kernelspec": {
   "display_name": "base",
   "language": "python",
   "name": "python3"
  },
  "language_info": {
   "codemirror_mode": {
    "name": "ipython",
    "version": 3
   },
   "file_extension": ".py",
   "mimetype": "text/x-python",
   "name": "python",
   "nbconvert_exporter": "python",
   "pygments_lexer": "ipython3",
   "version": "3.12.3"
  }
 },
 "nbformat": 4,
 "nbformat_minor": 2
}
