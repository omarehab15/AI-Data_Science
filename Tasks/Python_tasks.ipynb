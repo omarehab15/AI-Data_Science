{
 "cells": [
  {
   "cell_type": "markdown",
   "metadata": {},
   "source": [
    "# Task 1 \n"
   ]
  },
  {
   "cell_type": "code",
   "execution_count": 2,
   "metadata": {},
   "outputs": [
    {
     "name": "stdout",
     "output_type": "stream",
     "text": [
      "Squared :  [1, 4, 9, 16, 4, 9, 1, 1]\n",
      "Count :  {1: 3, 2: 2, 3: 2, 4: 1}\n"
     ]
    }
   ],
   "source": [
    "def process_numbers(nums) :\n",
    "    squared_nums = []\n",
    "    for i in nums :\n",
    "        squared_nums.append(i**2)\n",
    "    count = {}\n",
    "    for i in nums :\n",
    "        count[i] = nums.count(i)\n",
    "\n",
    "    return squared_nums , count\n",
    "\n",
    "\n",
    "nums = [1, 2, 3, 4, 2, 3, 1, 1]\n",
    "s , c = process_numbers(nums)\n",
    "print(\"Squared : \",s)\n",
    "print(\"Count : \" , c)"
   ]
  },
  {
   "cell_type": "markdown",
   "metadata": {},
   "source": [
    "# Task 2 "
   ]
  },
  {
   "cell_type": "code",
   "execution_count": 3,
   "metadata": {},
   "outputs": [
    {
     "name": "stdout",
     "output_type": "stream",
     "text": [
      "{'Cairo': 3}\n"
     ]
    }
   ],
   "source": [
    "from collections import Counter\n",
    "\n",
    "def count_repeated_city(cities):\n",
    "    count = Counter(cities)\n",
    "    max_count = max(count.values())\n",
    "    most_repeated = {city: freq for city, freq in count.items() if freq == max_count}\n",
    "    \n",
    "    return most_repeated\n",
    "\n",
    "cities = [\"Cairo\", \"Alex\", \"Cairo\", \"Giza\", \"Giza\", \"Cairo\", \"Alex\"]\n",
    "print(count_repeated_city(cities))"
   ]
  },
  {
   "cell_type": "markdown",
   "metadata": {},
   "source": [
    "# Tsak 3"
   ]
  },
  {
   "cell_type": "code",
   "execution_count": 5,
   "metadata": {},
   "outputs": [
    {
     "name": "stdout",
     "output_type": "stream",
     "text": [
      "Doubled:  [6, 14, 4, 16, 20]\n",
      "Filtered:  [14, 16, 20]\n",
      "Total sum:  50\n"
     ]
    }
   ],
   "source": [
    "from functools import reduce\n",
    "\n",
    "nums = [3, 7, 2, 8, 10]\n",
    "doubled = list(map(lambda x: x*2, nums))\n",
    "filtered = list(filter(lambda x: x > 10, doubled))\n",
    "total_sum = reduce(lambda x, y: x + y, filtered)\n",
    "\n",
    "print(\"Doubled: \", doubled)\n",
    "print(\"Filtered: \", filtered)\n",
    "print(\"Total sum: \", total_sum)"
   ]
  },
  {
   "cell_type": "markdown",
   "metadata": {},
   "source": [
    "# Task 4"
   ]
  },
  {
   "cell_type": "code",
   "execution_count": 9,
   "metadata": {},
   "outputs": [
    {
     "name": "stdout",
     "output_type": "stream",
     "text": [
      "apple: 5\n",
      "banana: 6\n",
      "cherry: 6\n",
      "date: 4\n"
     ]
    }
   ],
   "source": [
    "words = [\"apple\", \"banana\", \"cherry\", \"date\"]\n",
    "\n",
    "for word in words:\n",
    "    print(f\"{word}: {len(word)}\")\n",
    "\n",
    "    "
   ]
  },
  {
   "cell_type": "code",
   "execution_count": null,
   "metadata": {},
   "outputs": [],
   "source": []
  }
 ],
 "metadata": {
  "kernelspec": {
   "display_name": "base",
   "language": "python",
   "name": "python3"
  },
  "language_info": {
   "codemirror_mode": {
    "name": "ipython",
    "version": 3
   },
   "file_extension": ".py",
   "mimetype": "text/x-python",
   "name": "python",
   "nbconvert_exporter": "python",
   "pygments_lexer": "ipython3",
   "version": "3.12.3"
  }
 },
 "nbformat": 4,
 "nbformat_minor": 2
}
